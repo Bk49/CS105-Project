{
 "cells": [
  {
   "cell_type": "markdown",
   "metadata": {},
   "source": [
    "<div class=\"alert alert-block alert-info\">\n",
    "Singapore Management University<br>\n",
    "CS105 Statistical Thinking for Data Science, 2022/23 Term 2\n",
    "</div>"
   ]
  },
  {
   "cell_type": "markdown",
   "metadata": {
    "colab_type": "text",
    "id": "zYBbWb-0Kc6H"
   },
   "source": [
    "# CS105 Group Project Submission"
   ]
  },
  {
   "attachments": {
    "info.png": {
     "image/png": "[encoded data removed]"
    }
   },
   "cell_type": "markdown",
   "metadata": {},
   "source": [
    "-----\n",
    "<img src=\"attachment:info.png\" width=\"60\" align=\"left\"/>Provide your team details, including section, team number, team members, and the name of the dataset. \n",
    "Complete all of the following sections. For any part requiring code to derive your answers, please create a code cell immediately below your response and run the code.\n",
    "To edit any markdown cell, double click the cell; after editing, execute the markdown cell to collapse it.\n",
    "<br>\n",
    "-----"
   ]
  },
  {
   "cell_type": "markdown",
   "metadata": {
    "jp-MarkdownHeadingCollapsed": true,
    "tags": []
   },
   "source": [
    "#### Section: G4\n",
    "#### Team: Group 5\n",
    "#### Members:\n",
    "1. Chew Hui Feng\n",
    "2. Eric Ng Yong Wei\n",
    "3. Colin Teo Jun Wei\n",
    "4. Tan Li Yang Samuel\n",
    "5. Martin Ong Yan Jie\n",
    "\n",
    "#### Dataset: Credit Dataset"
   ]
  },
  {
   "cell_type": "markdown",
   "metadata": {},
   "source": [
    "### Importing libraries"
   ]
  },
  {
   "cell_type": "code",
   "execution_count": 1,
   "metadata": {},
   "outputs": [],
   "source": [
    "# General libraries\n",
    "import numpy as np\n",
    "import pandas as pd\n",
    "\n",
    "# Visualization libraries\n",
    "import matplotlib.pyplot as plt"
   ]
  },
  {
   "cell_type": "code",
   "execution_count": 2,
   "metadata": {},
   "outputs": [],
   "source": [
    "# Loading dataset \n",
    "df = pd.read_csv('Data Files\\credit.csv') "
   ]
  },
  {
   "cell_type": "code",
   "execution_count": 3,
   "metadata": {},
   "outputs": [],
   "source": [
    "# set pandas to display all columns\n",
    "pd.set_option('display.max_columns', None)"
   ]
  },
  {
   "cell_type": "markdown",
   "metadata": {},
   "source": [
    "## Part I: Exploratory Data Analysis (EDA) [8% of final grade]"
   ]
  },
  {
   "cell_type": "markdown",
   "metadata": {},
   "source": [
    "### 1. Overview of dataset [15% of Part I]"
   ]
  },
  {
   "cell_type": "markdown",
   "metadata": {},
   "source": [
    "**a.** Summarise the background of the dataset [limited to 50 words]"
   ]
  },
  {
   "cell_type": "markdown",
   "metadata": {},
   "source": [
    "The dataset mainly specifies various information about past applicants for a credit facility in a bank. The information also includes the approval status of each applicant which can be useful to train AI models in the future to filter new applicants of the credit facility"
   ]
  },
  {
   "cell_type": "markdown",
   "metadata": {},
   "source": [
    "**b.** State the size of the dataset"
   ]
  },
  {
   "cell_type": "code",
   "execution_count": 4,
   "metadata": {},
   "outputs": [
    {
     "name": "stdout",
     "output_type": "stream",
     "text": [
      "# of rows: 1000\n",
      "# of columns: 23\n"
     ]
    }
   ],
   "source": [
    "num_rows, num_cols = df.shape\n",
    "print(f'# of rows: {num_rows}')\n",
    "print(f'# of columns: {num_cols}')"
   ]
  },
  {
   "cell_type": "code",
   "execution_count": 5,
   "metadata": {},
   "outputs": [
    {
     "name": "stdout",
     "output_type": "stream",
     "text": [
      "These are the columns in the dataset:\n"
     ]
    },
    {
     "data": {
      "text/plain": [
       "Index(['ID', 'Checking_Account', 'Duration', 'Payment_Status', 'Purpose',\n",
       "       'Amount', 'Savings_Account', 'Employment', 'Installment',\n",
       "       'Personal_Status', 'Guarantors', 'Residence_Length', 'Assets', 'Age',\n",
       "       'Credit_Rating', 'Existing_Credits', 'Housing_Type', 'Num_Credits',\n",
       "       'Occupation', 'Dependents', 'Telephone', 'Foreign_Worker', 'Approval'],\n",
       "      dtype='object')"
      ]
     },
     "execution_count": 5,
     "metadata": {},
     "output_type": "execute_result"
    }
   ],
   "source": [
    "print(\"These are the columns in the dataset:\")\n",
    "df.columns"
   ]
  },
  {
   "cell_type": "markdown",
   "metadata": {},
   "source": [
    "**c.** For each variable, describe what it represents and its data type (numerical or categorical)"
   ]
  },
  {
   "cell_type": "code",
   "execution_count": 6,
   "metadata": {},
   "outputs": [
    {
     "data": {
      "text/html": [
       "<div>\n",
       "<style scoped>\n",
       "    .dataframe tbody tr th:only-of-type {\n",
       "        vertical-align: middle;\n",
       "    }\n",
       "\n",
       "    .dataframe tbody tr th {\n",
       "        vertical-align: top;\n",
       "    }\n",
       "\n",
       "    .dataframe thead th {\n",
       "        text-align: right;\n",
       "    }\n",
       "</style>\n",
       "<table border=\"1\" class=\"dataframe\">\n",
       "  <thead>\n",
       "    <tr style=\"text-align: right;\">\n",
       "      <th></th>\n",
       "      <th>ID</th>\n",
       "      <th>Checking_Account</th>\n",
       "      <th>Duration</th>\n",
       "      <th>Payment_Status</th>\n",
       "      <th>Purpose</th>\n",
       "      <th>Amount</th>\n",
       "      <th>Savings_Account</th>\n",
       "      <th>Employment</th>\n",
       "      <th>Installment</th>\n",
       "      <th>Personal_Status</th>\n",
       "      <th>Guarantors</th>\n",
       "      <th>Residence_Length</th>\n",
       "      <th>Assets</th>\n",
       "      <th>Age</th>\n",
       "      <th>Credit_Rating</th>\n",
       "      <th>Existing_Credits</th>\n",
       "      <th>Housing_Type</th>\n",
       "      <th>Num_Credits</th>\n",
       "      <th>Occupation</th>\n",
       "      <th>Dependents</th>\n",
       "      <th>Telephone</th>\n",
       "      <th>Foreign_Worker</th>\n",
       "      <th>Approval</th>\n",
       "    </tr>\n",
       "  </thead>\n",
       "  <tbody>\n",
       "    <tr>\n",
       "      <th>0</th>\n",
       "      <td>1</td>\n",
       "      <td>1</td>\n",
       "      <td>24</td>\n",
       "      <td>2</td>\n",
       "      <td>0</td>\n",
       "      <td>1442</td>\n",
       "      <td>1</td>\n",
       "      <td>4</td>\n",
       "      <td>4</td>\n",
       "      <td>2</td>\n",
       "      <td>1</td>\n",
       "      <td>4.0</td>\n",
       "      <td>3</td>\n",
       "      <td>23</td>\n",
       "      <td>4</td>\n",
       "      <td>3</td>\n",
       "      <td>1</td>\n",
       "      <td>2.0</td>\n",
       "      <td>3</td>\n",
       "      <td>1</td>\n",
       "      <td>1</td>\n",
       "      <td>1</td>\n",
       "      <td>0</td>\n",
       "    </tr>\n",
       "    <tr>\n",
       "      <th>1</th>\n",
       "      <td>2</td>\n",
       "      <td>4</td>\n",
       "      <td>24</td>\n",
       "      <td>2</td>\n",
       "      <td>3</td>\n",
       "      <td>1413</td>\n",
       "      <td>1</td>\n",
       "      <td>3</td>\n",
       "      <td>4</td>\n",
       "      <td>4</td>\n",
       "      <td>1</td>\n",
       "      <td>2.0</td>\n",
       "      <td>2</td>\n",
       "      <td>28</td>\n",
       "      <td>59</td>\n",
       "      <td>3</td>\n",
       "      <td>2</td>\n",
       "      <td>1.0</td>\n",
       "      <td>3</td>\n",
       "      <td>1</td>\n",
       "      <td>1</td>\n",
       "      <td>1</td>\n",
       "      <td>1</td>\n",
       "    </tr>\n",
       "    <tr>\n",
       "      <th>2</th>\n",
       "      <td>3</td>\n",
       "      <td>1</td>\n",
       "      <td>12</td>\n",
       "      <td>2</td>\n",
       "      <td>3</td>\n",
       "      <td>2214</td>\n",
       "      <td>1</td>\n",
       "      <td>3</td>\n",
       "      <td>4</td>\n",
       "      <td>3</td>\n",
       "      <td>1</td>\n",
       "      <td>3.0</td>\n",
       "      <td>2</td>\n",
       "      <td>24</td>\n",
       "      <td>26</td>\n",
       "      <td>3</td>\n",
       "      <td>2</td>\n",
       "      <td>1.0</td>\n",
       "      <td>2</td>\n",
       "      <td>1</td>\n",
       "      <td>1</td>\n",
       "      <td>1</td>\n",
       "      <td>1</td>\n",
       "    </tr>\n",
       "    <tr>\n",
       "      <th>3</th>\n",
       "      <td>4</td>\n",
       "      <td>1</td>\n",
       "      <td>30</td>\n",
       "      <td>2</td>\n",
       "      <td>2</td>\n",
       "      <td>3108</td>\n",
       "      <td>1</td>\n",
       "      <td>2</td>\n",
       "      <td>2</td>\n",
       "      <td>1</td>\n",
       "      <td>1</td>\n",
       "      <td>4.0</td>\n",
       "      <td>2</td>\n",
       "      <td>31</td>\n",
       "      <td>26</td>\n",
       "      <td>3</td>\n",
       "      <td>2</td>\n",
       "      <td>1.0</td>\n",
       "      <td>2</td>\n",
       "      <td>1</td>\n",
       "      <td>1</td>\n",
       "      <td>1</td>\n",
       "      <td>0</td>\n",
       "    </tr>\n",
       "    <tr>\n",
       "      <th>4</th>\n",
       "      <td>5</td>\n",
       "      <td>4</td>\n",
       "      <td>54</td>\n",
       "      <td>0</td>\n",
       "      <td>1</td>\n",
       "      <td>9436</td>\n",
       "      <td>5</td>\n",
       "      <td>3</td>\n",
       "      <td>2</td>\n",
       "      <td>3</td>\n",
       "      <td>1</td>\n",
       "      <td>2.0</td>\n",
       "      <td>2</td>\n",
       "      <td>39</td>\n",
       "      <td>97</td>\n",
       "      <td>3</td>\n",
       "      <td>2</td>\n",
       "      <td>1.0</td>\n",
       "      <td>2</td>\n",
       "      <td>2</td>\n",
       "      <td>1</td>\n",
       "      <td>1</td>\n",
       "      <td>1</td>\n",
       "    </tr>\n",
       "    <tr>\n",
       "      <th>5</th>\n",
       "      <td>6</td>\n",
       "      <td>2</td>\n",
       "      <td>36</td>\n",
       "      <td>1</td>\n",
       "      <td>4</td>\n",
       "      <td>3990</td>\n",
       "      <td>5</td>\n",
       "      <td>2</td>\n",
       "      <td>3</td>\n",
       "      <td>2</td>\n",
       "      <td>1</td>\n",
       "      <td>2.0</td>\n",
       "      <td>4</td>\n",
       "      <td>29</td>\n",
       "      <td>19</td>\n",
       "      <td>1</td>\n",
       "      <td>2</td>\n",
       "      <td>1.0</td>\n",
       "      <td>1</td>\n",
       "      <td>1</td>\n",
       "      <td>1</td>\n",
       "      <td>1</td>\n",
       "      <td>1</td>\n",
       "    </tr>\n",
       "    <tr>\n",
       "      <th>6</th>\n",
       "      <td>7</td>\n",
       "      <td>2</td>\n",
       "      <td>48</td>\n",
       "      <td>2</td>\n",
       "      <td>3</td>\n",
       "      <td>10961</td>\n",
       "      <td>4</td>\n",
       "      <td>4</td>\n",
       "      <td>1</td>\n",
       "      <td>3</td>\n",
       "      <td>2</td>\n",
       "      <td>2.0</td>\n",
       "      <td>4</td>\n",
       "      <td>27</td>\n",
       "      <td>19</td>\n",
       "      <td>1</td>\n",
       "      <td>2</td>\n",
       "      <td>2.0</td>\n",
       "      <td>3</td>\n",
       "      <td>1</td>\n",
       "      <td>2</td>\n",
       "      <td>1</td>\n",
       "      <td>0</td>\n",
       "    </tr>\n",
       "    <tr>\n",
       "      <th>7</th>\n",
       "      <td>8</td>\n",
       "      <td>1</td>\n",
       "      <td>12</td>\n",
       "      <td>4</td>\n",
       "      <td>0</td>\n",
       "      <td>2171</td>\n",
       "      <td>1</td>\n",
       "      <td>3</td>\n",
       "      <td>4</td>\n",
       "      <td>3</td>\n",
       "      <td>1</td>\n",
       "      <td>4.0</td>\n",
       "      <td>2</td>\n",
       "      <td>38</td>\n",
       "      <td>98</td>\n",
       "      <td>1</td>\n",
       "      <td>2</td>\n",
       "      <td>2.0</td>\n",
       "      <td>2</td>\n",
       "      <td>1</td>\n",
       "      <td>1</td>\n",
       "      <td>2</td>\n",
       "      <td>1</td>\n",
       "    </tr>\n",
       "    <tr>\n",
       "      <th>8</th>\n",
       "      <td>9</td>\n",
       "      <td>1</td>\n",
       "      <td>24</td>\n",
       "      <td>2</td>\n",
       "      <td>2</td>\n",
       "      <td>1747</td>\n",
       "      <td>1</td>\n",
       "      <td>2</td>\n",
       "      <td>4</td>\n",
       "      <td>3</td>\n",
       "      <td>2</td>\n",
       "      <td>1.0</td>\n",
       "      <td>2</td>\n",
       "      <td>24</td>\n",
       "      <td>92</td>\n",
       "      <td>3</td>\n",
       "      <td>2</td>\n",
       "      <td>1.0</td>\n",
       "      <td>2</td>\n",
       "      <td>1</td>\n",
       "      <td>1</td>\n",
       "      <td>2</td>\n",
       "      <td>1</td>\n",
       "    </tr>\n",
       "    <tr>\n",
       "      <th>9</th>\n",
       "      <td>10</td>\n",
       "      <td>2</td>\n",
       "      <td>30</td>\n",
       "      <td>1</td>\n",
       "      <td>2</td>\n",
       "      <td>3496</td>\n",
       "      <td>4</td>\n",
       "      <td>3</td>\n",
       "      <td>4</td>\n",
       "      <td>3</td>\n",
       "      <td>1</td>\n",
       "      <td>2.0</td>\n",
       "      <td>3</td>\n",
       "      <td>34</td>\n",
       "      <td>72</td>\n",
       "      <td>2</td>\n",
       "      <td>2</td>\n",
       "      <td>1.0</td>\n",
       "      <td>3</td>\n",
       "      <td>2</td>\n",
       "      <td>2</td>\n",
       "      <td>1</td>\n",
       "      <td>1</td>\n",
       "    </tr>\n",
       "  </tbody>\n",
       "</table>\n",
       "</div>"
      ],
      "text/plain": [
       "   ID  Checking_Account  Duration  Payment_Status  Purpose  Amount  \\\n",
       "0   1                 1        24               2        0    1442   \n",
       "1   2                 4        24               2        3    1413   \n",
       "2   3                 1        12               2        3    2214   \n",
       "3   4                 1        30               2        2    3108   \n",
       "4   5                 4        54               0        1    9436   \n",
       "5   6                 2        36               1        4    3990   \n",
       "6   7                 2        48               2        3   10961   \n",
       "7   8                 1        12               4        0    2171   \n",
       "8   9                 1        24               2        2    1747   \n",
       "9  10                 2        30               1        2    3496   \n",
       "\n",
       "   Savings_Account  Employment  Installment  Personal_Status  Guarantors  \\\n",
       "0                1           4            4                2           1   \n",
       "1                1           3            4                4           1   \n",
       "2                1           3            4                3           1   \n",
       "3                1           2            2                1           1   \n",
       "4                5           3            2                3           1   \n",
       "5                5           2            3                2           1   \n",
       "6                4           4            1                3           2   \n",
       "7                1           3            4                3           1   \n",
       "8                1           2            4                3           2   \n",
       "9                4           3            4                3           1   \n",
       "\n",
       "   Residence_Length  Assets  Age  Credit_Rating  Existing_Credits  \\\n",
       "0               4.0       3   23              4                 3   \n",
       "1               2.0       2   28             59                 3   \n",
       "2               3.0       2   24             26                 3   \n",
       "3               4.0       2   31             26                 3   \n",
       "4               2.0       2   39             97                 3   \n",
       "5               2.0       4   29             19                 1   \n",
       "6               2.0       4   27             19                 1   \n",
       "7               4.0       2   38             98                 1   \n",
       "8               1.0       2   24             92                 3   \n",
       "9               2.0       3   34             72                 2   \n",
       "\n",
       "   Housing_Type  Num_Credits  Occupation  Dependents  Telephone  \\\n",
       "0             1          2.0           3           1          1   \n",
       "1             2          1.0           3           1          1   \n",
       "2             2          1.0           2           1          1   \n",
       "3             2          1.0           2           1          1   \n",
       "4             2          1.0           2           2          1   \n",
       "5             2          1.0           1           1          1   \n",
       "6             2          2.0           3           1          2   \n",
       "7             2          2.0           2           1          1   \n",
       "8             2          1.0           2           1          1   \n",
       "9             2          1.0           3           2          2   \n",
       "\n",
       "   Foreign_Worker  Approval  \n",
       "0               1         0  \n",
       "1               1         1  \n",
       "2               1         1  \n",
       "3               1         0  \n",
       "4               1         1  \n",
       "5               1         1  \n",
       "6               1         0  \n",
       "7               2         1  \n",
       "8               2         1  \n",
       "9               1         1  "
      ]
     },
     "execution_count": 6,
     "metadata": {},
     "output_type": "execute_result"
    }
   ],
   "source": [
    "df.head(10)"
   ]
  },
  {
   "cell_type": "markdown",
   "metadata": {},
   "source": [
    "First 10 rows of the dataset to get an idea about the dataset"
   ]
  },
  {
   "cell_type": "code",
   "execution_count": 7,
   "metadata": {},
   "outputs": [
    {
     "data": {
      "text/plain": [
       "ID                    int64\n",
       "Checking_Account      int64\n",
       "Duration              int64\n",
       "Payment_Status        int64\n",
       "Purpose               int64\n",
       "Amount                int64\n",
       "Savings_Account       int64\n",
       "Employment            int64\n",
       "Installment           int64\n",
       "Personal_Status       int64\n",
       "Guarantors            int64\n",
       "Residence_Length    float64\n",
       "Assets                int64\n",
       "Age                   int64\n",
       "Credit_Rating         int64\n",
       "Existing_Credits      int64\n",
       "Housing_Type          int64\n",
       "Num_Credits         float64\n",
       "Occupation            int64\n",
       "Dependents            int64\n",
       "Telephone             int64\n",
       "Foreign_Worker        int64\n",
       "Approval              int64\n",
       "dtype: object"
      ]
     },
     "execution_count": 7,
     "metadata": {},
     "output_type": "execute_result"
    }
   ],
   "source": [
    "df.dtypes"
   ]
  },
  {
   "cell_type": "markdown",
   "metadata": {},
   "source": [
    "`df.dtypes` does not accurately reflect whether the column datatype is numerical or categorical hence we will use data dictionary for our \"credit\" dataset"
   ]
  },
  {
   "cell_type": "markdown",
   "metadata": {},
   "source": [
    "<table> \n",
    "    <tr>\n",
    "        <th> Column Name </th>\n",
    "        <th> Explanation </th>\n",
    "        <th> Datatype </th>\n",
    "        <th> Expected Values </th>\n",
    "        <th> Numerical/Categorical </th>\n",
    "    </tr>\n",
    "    <tr>\n",
    "        <td> ID </td>\n",
    "        <td> Unique id of an applicant </td>\n",
    "        <td> Integer </td>\n",
    "        <td> 1 to #rows </td>\n",
    "        <td> Numerical </td>\n",
    "    </tr>\n",
    "    <tr>\n",
    "        <td> Checking_Account </td>\n",
    "        <td> Status of checking account </td>\n",
    "        <td> Integer </td>\n",
    "        <td> 1 to 4 </td>\n",
    "        <td> Categorical </td>\n",
    "    </tr>\n",
    "    <tr>\n",
    "        <td> Payment_Status </td>\n",
    "        <td> Credit history of an applicant </td>\n",
    "        <td> Integer </td>\n",
    "        <td> 0 to 4</td>\n",
    "        <td> Categorical </td>\n",
    "    </tr>\n",
    "    <tr>\n",
    "        <td> Purpose </td>\n",
    "        <td> Type of purpose for applying credit </td>\n",
    "        <td> Integer </td>\n",
    "        <td> 0 to 10 </td>\n",
    "        <td> Categorical </td>\n",
    "    </tr>\n",
    "    <tr>\n",
    "        <td> Amount </td>\n",
    "        <td> Amount of credit applying for </td>\n",
    "        <td> Integer </td>\n",
    "        <td> Integer value </td>\n",
    "        <td> Numerical </td>\n",
    "    </tr>\n",
    "     <tr>\n",
    "        <td> Savings_Account </td>\n",
    "        <td> Status type of savings account </td>\n",
    "        <td> Integer </td>\n",
    "        <td> 1 to 5 </td>\n",
    "         <td> Categorical </td>\n",
    "    </tr>\n",
    "    <tr>\n",
    "        <td> Employment </td>\n",
    "        <td> Length of current employment </td>\n",
    "        <td> Integer </td>\n",
    "        <td> 1 to 5 </td>\n",
    "        <td> Categorical </td>\n",
    "    </tr>\n",
    "    <tr>\n",
    "        <td> Installment </td>\n",
    "        <td> Installment rate as percentage of disposable income </td>\n",
    "        <td> Integer </td>\n",
    "        <td> Integer value </td>\n",
    "        <td> Numerical </td>\n",
    "    </tr>\n",
    "    <tr>\n",
    "        <td> Personal_Status </td>\n",
    "        <td> Marital status and sex </td>\n",
    "        <td> Integer </td>\n",
    "        <td> 1 to 4 </td>\n",
    "        <td> Categorical </td>\n",
    "    </tr>\n",
    "    <tr>\n",
    "        <td> Guarantors </td>\n",
    "        <td> If other debtors or guarantor exists </td>\n",
    "        <td> Integer </td>\n",
    "        <td> 1 to 3 </td>\n",
    "        <td> Categorical </td>\n",
    "    </tr>\n",
    "    <tr>\n",
    "        <td> Residence_Length </td>\n",
    "        <td> Length of staying in current residence </td>\n",
    "        <td> Integer </td>\n",
    "        <td> 1 to 4 </td>\n",
    "        <td> Categorical </td>\n",
    "    </tr>\n",
    "    <tr>\n",
    "        <td> Assets </td>\n",
    "        <td> Asset ownership type</td>\n",
    "        <td> Integer </td>\n",
    "        <td> 1 to 4 </td>\n",
    "        <td> Categorical </td>\n",
    "    </tr>\n",
    "    <tr>\n",
    "        <td> Age </td>\n",
    "        <td> Age of applicant in years </td>\n",
    "        <td> Integer </td>\n",
    "        <td> Positive integer value </td>\n",
    "        <td> Numerical </td>\n",
    "    </tr>\n",
    "    <tr>\n",
    "        <td> Credit_Rating </td>\n",
    "        <td> Credit rating of applicant </td>\n",
    "        <td> Integer </td>\n",
    "        <td> 1 to 100 </td>\n",
    "        <td> Categorical </td>\n",
    "    </tr>\n",
    "    <tr>\n",
    "        <td> Existing_Credit </td>\n",
    "        <td> Other existing credit in places and what type </td>\n",
    "        <td> Integer </td>\n",
    "        <td> 1 to 3 </td>\n",
    "        <td> Categorical </td>\n",
    "    </tr>\n",
    "    <tr>\n",
    "        <td> Housing_Type </td>\n",
    "        <td> Type of apartment </td>\n",
    "        <td> Integer </td>\n",
    "        <td> 1 to 3 </td>\n",
    "        <td> Categorical </td>\n",
    "    </tr>\n",
    "    <tr>\n",
    "        <td> Num_Credits </td>\n",
    "        <td> Number of existing credits </td>\n",
    "        <td> Integer </td>\n",
    "        <td> Integer value </td>\n",
    "        <td> Numerical </td>\n",
    "    </tr>\n",
    "    <tr>\n",
    "        <td> Occupation </td>\n",
    "        <td> Occupation type </td>\n",
    "        <td> Integer </td>\n",
    "        <td> 1 to 4 </td>\n",
    "        <td> Categorical </td>\n",
    "    </tr>\n",
    "    <tr>\n",
    "        <td> Dependents </td>\n",
    "        <td> Number of dependents of applicant </td>\n",
    "        <td> Integer </td>\n",
    "        <td> Integer value </td>\n",
    "        <td> Numerical </td>\n",
    "    </tr>\n",
    "    <tr>\n",
    "        <td> Telephone </td>\n",
    "        <td> Has telephone or not </td>\n",
    "        <td> Integer </td>\n",
    "        <td> 1, 2 </td>\n",
    "        <td> Categorical </td>\n",
    "    </tr>\n",
    "    <tr>\n",
    "        <td> Foreign_Worker </td>\n",
    "        <td> Foreign worker or not </td>\n",
    "        <td> Integer </td>\n",
    "        <td> 1, 2 </td>\n",
    "        <td> Categorical </td>\n",
    "    </tr>\n",
    "    <tr>\n",
    "        <td> Approval </td>\n",
    "        <td> Loan approval status, 1 is approved, 2 is not approved </td>\n",
    "        <td> Integer </td>\n",
    "        <td> 0, 1 </td>\n",
    "        <td> Categorical </td>\n",
    "    </tr>\n",
    "        \n",
    "</table>"
   ]
  },
  {
   "cell_type": "markdown",
   "metadata": {},
   "source": [
    "### 2. Data pre-processing [35% of Part I]"
   ]
  },
  {
   "cell_type": "markdown",
   "metadata": {},
   "source": [
    "**a.** For each variable, determine the percentage of missing data. For any column with missing data, describe how you resolve the issue. Clearly state any assumption you made."
   ]
  },
  {
   "cell_type": "code",
   "execution_count": 8,
   "metadata": {},
   "outputs": [
    {
     "name": "stdout",
     "output_type": "stream",
     "text": [
      "Number of data in each column: \n"
     ]
    },
    {
     "data": {
      "text/plain": [
       "ID                  1000\n",
       "Checking_Account    1000\n",
       "Duration            1000\n",
       "Payment_Status      1000\n",
       "Purpose             1000\n",
       "Amount              1000\n",
       "Savings_Account     1000\n",
       "Employment          1000\n",
       "Installment         1000\n",
       "Personal_Status     1000\n",
       "Guarantors          1000\n",
       "Residence_Length     966\n",
       "Assets              1000\n",
       "Age                 1000\n",
       "Credit_Rating       1000\n",
       "Existing_Credits    1000\n",
       "Housing_Type        1000\n",
       "Num_Credits          969\n",
       "Occupation          1000\n",
       "Dependents          1000\n",
       "Telephone           1000\n",
       "Foreign_Worker      1000\n",
       "Approval            1000\n",
       "dtype: int64"
      ]
     },
     "execution_count": 8,
     "metadata": {},
     "output_type": "execute_result"
    }
   ],
   "source": [
    "print(\"Number of data in each column: \")\n",
    "df.count()"
   ]
  },
  {
   "cell_type": "markdown",
   "metadata": {},
   "source": [
    "There are two columns with missing data which are `Residence_Length` and `Num_Credits`"
   ]
  },
  {
   "cell_type": "code",
   "execution_count": 9,
   "metadata": {},
   "outputs": [
    {
     "name": "stdout",
     "output_type": "stream",
     "text": [
      "Percentage of data that is not missing: \n"
     ]
    },
    {
     "data": {
      "text/plain": [
       "ID                  1.000\n",
       "Checking_Account    1.000\n",
       "Duration            1.000\n",
       "Payment_Status      1.000\n",
       "Purpose             1.000\n",
       "Amount              1.000\n",
       "Savings_Account     1.000\n",
       "Employment          1.000\n",
       "Installment         1.000\n",
       "Personal_Status     1.000\n",
       "Guarantors          1.000\n",
       "Residence_Length    0.966\n",
       "Assets              1.000\n",
       "Age                 1.000\n",
       "Credit_Rating       1.000\n",
       "Existing_Credits    1.000\n",
       "Housing_Type        1.000\n",
       "Num_Credits         0.969\n",
       "Occupation          1.000\n",
       "Dependents          1.000\n",
       "Telephone           1.000\n",
       "Foreign_Worker      1.000\n",
       "Approval            1.000\n",
       "dtype: float64"
      ]
     },
     "execution_count": 9,
     "metadata": {},
     "output_type": "execute_result"
    }
   ],
   "source": [
    "print(\"Percentage of data that is not missing: \")\n",
    "df.count() / num_rows "
   ]
  },
  {
   "cell_type": "markdown",
   "metadata": {},
   "source": [
    "Both `Residence_Length` and `Num_Credits` have less than 5% missing data"
   ]
  },
  {
   "cell_type": "code",
   "execution_count": 10,
   "metadata": {},
   "outputs": [
    {
     "name": "stdout",
     "output_type": "stream",
     "text": [
      "Number of missing data in each column: \n"
     ]
    },
    {
     "data": {
      "text/plain": [
       "ID                   0\n",
       "Checking_Account     0\n",
       "Duration             0\n",
       "Payment_Status       0\n",
       "Purpose              0\n",
       "Amount               0\n",
       "Savings_Account      0\n",
       "Employment           0\n",
       "Installment          0\n",
       "Personal_Status      0\n",
       "Guarantors           0\n",
       "Residence_Length    34\n",
       "Assets               0\n",
       "Age                  0\n",
       "Credit_Rating        0\n",
       "Existing_Credits     0\n",
       "Housing_Type         0\n",
       "Num_Credits         31\n",
       "Occupation           0\n",
       "Dependents           0\n",
       "Telephone            0\n",
       "Foreign_Worker       0\n",
       "Approval             0\n",
       "dtype: int64"
      ]
     },
     "execution_count": 10,
     "metadata": {},
     "output_type": "execute_result"
    }
   ],
   "source": [
    "print(\"Number of missing data in each column: \")\n",
    "df.isna().sum()"
   ]
  },
  {
   "cell_type": "markdown",
   "metadata": {},
   "source": [
    "`Residence_Length` have 34 rows missing data <br>\n",
    "`Num_Credits` have 31 rows of missing data"
   ]
  },
  {
   "cell_type": "code",
   "execution_count": 11,
   "metadata": {},
   "outputs": [
    {
     "data": {
      "text/html": [
       "<div>\n",
       "<style scoped>\n",
       "    .dataframe tbody tr th:only-of-type {\n",
       "        vertical-align: middle;\n",
       "    }\n",
       "\n",
       "    .dataframe tbody tr th {\n",
       "        vertical-align: top;\n",
       "    }\n",
       "\n",
       "    .dataframe thead th {\n",
       "        text-align: right;\n",
       "    }\n",
       "</style>\n",
       "<table border=\"1\" class=\"dataframe\">\n",
       "  <thead>\n",
       "    <tr style=\"text-align: right;\">\n",
       "      <th></th>\n",
       "      <th>column_name</th>\n",
       "      <th>percent_missing</th>\n",
       "    </tr>\n",
       "  </thead>\n",
       "  <tbody>\n",
       "    <tr>\n",
       "      <th>Residence_Length</th>\n",
       "      <td>Residence_Length</td>\n",
       "      <td>3.4</td>\n",
       "    </tr>\n",
       "    <tr>\n",
       "      <th>Num_Credits</th>\n",
       "      <td>Num_Credits</td>\n",
       "      <td>3.1</td>\n",
       "    </tr>\n",
       "  </tbody>\n",
       "</table>\n",
       "</div>"
      ],
      "text/plain": [
       "                       column_name  percent_missing\n",
       "Residence_Length  Residence_Length              3.4\n",
       "Num_Credits            Num_Credits              3.1"
      ]
     },
     "execution_count": 11,
     "metadata": {},
     "output_type": "execute_result"
    }
   ],
   "source": [
    "percent_missing = df.isnull().sum() * 100 / len(df)\n",
    "missing_value_df = pd.DataFrame({'column_name': df.columns,\n",
    "                                 'percent_missing': percent_missing})\n",
    "missing_value_df [missing_value_df ['percent_missing'] !=0]"
   ]
  },
  {
   "cell_type": "markdown",
   "metadata": {},
   "source": [
    "Now let's take a look at actual percentage of data misisng from these two rows <br>\n",
    "`Residence_Length` have 3.4% missing data and `Num_Credits` have 3.1% missing data which are not too significant, hence there is no need to drop  the whole column"
   ]
  },
  {
   "cell_type": "code",
   "execution_count": 12,
   "metadata": {},
   "outputs": [
    {
     "data": {
      "text/plain": [
       "1.0    615\n",
       "2.0    321\n",
       "3.0     27\n",
       "4.0      6\n",
       "Name: Num_Credits, dtype: int64"
      ]
     },
     "execution_count": 12,
     "metadata": {},
     "output_type": "execute_result"
    }
   ],
   "source": [
    "df['Num_Credits'].value_counts()"
   ]
  },
  {
   "cell_type": "code",
   "execution_count": 13,
   "metadata": {},
   "outputs": [],
   "source": [
    "df = df[df['Num_Credits'].notna()]\n",
    "num_rows = df.shape[0]"
   ]
  },
  {
   "cell_type": "markdown",
   "metadata": {},
   "source": [
    "Based on the description and the existing data provided for this field `Num_Credits` clearly shows the number of existing credits for an applicant. We can see that there are no cases where the applicants don't have any existing credits which is the value 0 as shown above, but we have values 1, 2, 3, 4. It is very unlikely in 1000 applicants of credit, there aren't any of them that does not have any credits at the moment. Therefore, it is safe to assume that those rows that don't specify the number of credits they hold were the applicants who do not have any existing credits which make sense logically too. What we should do is to clarify with people who collected these data or manually check with the customer's data but in this case (assignment limitation) we are unable to do so hence we will assume it. As such, it will all be replaced with the numerical value 0, to fit the datatype of the column and indicate applicants with no existing credits"
   ]
  },
  {
   "cell_type": "code",
   "execution_count": 14,
   "metadata": {},
   "outputs": [
    {
     "data": {
      "text/plain": [
       "4.0    382\n",
       "2.0    281\n",
       "3.0    143\n",
       "1.0    119\n",
       "5.0     11\n",
       "Name: Residence_Length, dtype: int64"
      ]
     },
     "execution_count": 14,
     "metadata": {},
     "output_type": "execute_result"
    }
   ],
   "source": [
    "df['Residence_Length'].value_counts()"
   ]
  },
  {
   "cell_type": "code",
   "execution_count": 15,
   "metadata": {},
   "outputs": [
    {
     "data": {
      "text/html": [
       "<div>\n",
       "<style scoped>\n",
       "    .dataframe tbody tr th:only-of-type {\n",
       "        vertical-align: middle;\n",
       "    }\n",
       "\n",
       "    .dataframe tbody tr th {\n",
       "        vertical-align: top;\n",
       "    }\n",
       "\n",
       "    .dataframe thead th {\n",
       "        text-align: right;\n",
       "    }\n",
       "</style>\n",
       "<table border=\"1\" class=\"dataframe\">\n",
       "  <thead>\n",
       "    <tr style=\"text-align: right;\">\n",
       "      <th></th>\n",
       "      <th>ID</th>\n",
       "      <th>Checking_Account</th>\n",
       "      <th>Duration</th>\n",
       "      <th>Payment_Status</th>\n",
       "      <th>Purpose</th>\n",
       "      <th>Amount</th>\n",
       "      <th>Savings_Account</th>\n",
       "      <th>Employment</th>\n",
       "      <th>Installment</th>\n",
       "      <th>Personal_Status</th>\n",
       "      <th>Guarantors</th>\n",
       "      <th>Residence_Length</th>\n",
       "      <th>Assets</th>\n",
       "      <th>Age</th>\n",
       "      <th>Credit_Rating</th>\n",
       "      <th>Existing_Credits</th>\n",
       "      <th>Housing_Type</th>\n",
       "      <th>Num_Credits</th>\n",
       "      <th>Occupation</th>\n",
       "      <th>Dependents</th>\n",
       "      <th>Telephone</th>\n",
       "      <th>Foreign_Worker</th>\n",
       "      <th>Approval</th>\n",
       "    </tr>\n",
       "  </thead>\n",
       "  <tbody>\n",
       "    <tr>\n",
       "      <th>0</th>\n",
       "      <td>1</td>\n",
       "      <td>1</td>\n",
       "      <td>24</td>\n",
       "      <td>2</td>\n",
       "      <td>0</td>\n",
       "      <td>1442</td>\n",
       "      <td>1</td>\n",
       "      <td>4</td>\n",
       "      <td>4</td>\n",
       "      <td>2</td>\n",
       "      <td>1</td>\n",
       "      <td>4.0</td>\n",
       "      <td>3</td>\n",
       "      <td>23</td>\n",
       "      <td>4</td>\n",
       "      <td>3</td>\n",
       "      <td>1</td>\n",
       "      <td>2.0</td>\n",
       "      <td>3</td>\n",
       "      <td>1</td>\n",
       "      <td>1</td>\n",
       "      <td>1</td>\n",
       "      <td>0</td>\n",
       "    </tr>\n",
       "    <tr>\n",
       "      <th>1</th>\n",
       "      <td>2</td>\n",
       "      <td>4</td>\n",
       "      <td>24</td>\n",
       "      <td>2</td>\n",
       "      <td>3</td>\n",
       "      <td>1413</td>\n",
       "      <td>1</td>\n",
       "      <td>3</td>\n",
       "      <td>4</td>\n",
       "      <td>4</td>\n",
       "      <td>1</td>\n",
       "      <td>2.0</td>\n",
       "      <td>2</td>\n",
       "      <td>28</td>\n",
       "      <td>59</td>\n",
       "      <td>3</td>\n",
       "      <td>2</td>\n",
       "      <td>1.0</td>\n",
       "      <td>3</td>\n",
       "      <td>1</td>\n",
       "      <td>1</td>\n",
       "      <td>1</td>\n",
       "      <td>1</td>\n",
       "    </tr>\n",
       "    <tr>\n",
       "      <th>2</th>\n",
       "      <td>3</td>\n",
       "      <td>1</td>\n",
       "      <td>12</td>\n",
       "      <td>2</td>\n",
       "      <td>3</td>\n",
       "      <td>2214</td>\n",
       "      <td>1</td>\n",
       "      <td>3</td>\n",
       "      <td>4</td>\n",
       "      <td>3</td>\n",
       "      <td>1</td>\n",
       "      <td>3.0</td>\n",
       "      <td>2</td>\n",
       "      <td>24</td>\n",
       "      <td>26</td>\n",
       "      <td>3</td>\n",
       "      <td>2</td>\n",
       "      <td>1.0</td>\n",
       "      <td>2</td>\n",
       "      <td>1</td>\n",
       "      <td>1</td>\n",
       "      <td>1</td>\n",
       "      <td>1</td>\n",
       "    </tr>\n",
       "    <tr>\n",
       "      <th>3</th>\n",
       "      <td>4</td>\n",
       "      <td>1</td>\n",
       "      <td>30</td>\n",
       "      <td>2</td>\n",
       "      <td>2</td>\n",
       "      <td>3108</td>\n",
       "      <td>1</td>\n",
       "      <td>2</td>\n",
       "      <td>2</td>\n",
       "      <td>1</td>\n",
       "      <td>1</td>\n",
       "      <td>4.0</td>\n",
       "      <td>2</td>\n",
       "      <td>31</td>\n",
       "      <td>26</td>\n",
       "      <td>3</td>\n",
       "      <td>2</td>\n",
       "      <td>1.0</td>\n",
       "      <td>2</td>\n",
       "      <td>1</td>\n",
       "      <td>1</td>\n",
       "      <td>1</td>\n",
       "      <td>0</td>\n",
       "    </tr>\n",
       "    <tr>\n",
       "      <th>4</th>\n",
       "      <td>5</td>\n",
       "      <td>4</td>\n",
       "      <td>54</td>\n",
       "      <td>0</td>\n",
       "      <td>1</td>\n",
       "      <td>9436</td>\n",
       "      <td>5</td>\n",
       "      <td>3</td>\n",
       "      <td>2</td>\n",
       "      <td>3</td>\n",
       "      <td>1</td>\n",
       "      <td>2.0</td>\n",
       "      <td>2</td>\n",
       "      <td>39</td>\n",
       "      <td>97</td>\n",
       "      <td>3</td>\n",
       "      <td>2</td>\n",
       "      <td>1.0</td>\n",
       "      <td>2</td>\n",
       "      <td>2</td>\n",
       "      <td>1</td>\n",
       "      <td>1</td>\n",
       "      <td>1</td>\n",
       "    </tr>\n",
       "    <tr>\n",
       "      <th>...</th>\n",
       "      <td>...</td>\n",
       "      <td>...</td>\n",
       "      <td>...</td>\n",
       "      <td>...</td>\n",
       "      <td>...</td>\n",
       "      <td>...</td>\n",
       "      <td>...</td>\n",
       "      <td>...</td>\n",
       "      <td>...</td>\n",
       "      <td>...</td>\n",
       "      <td>...</td>\n",
       "      <td>...</td>\n",
       "      <td>...</td>\n",
       "      <td>...</td>\n",
       "      <td>...</td>\n",
       "      <td>...</td>\n",
       "      <td>...</td>\n",
       "      <td>...</td>\n",
       "      <td>...</td>\n",
       "      <td>...</td>\n",
       "      <td>...</td>\n",
       "      <td>...</td>\n",
       "      <td>...</td>\n",
       "    </tr>\n",
       "    <tr>\n",
       "      <th>995</th>\n",
       "      <td>996</td>\n",
       "      <td>2</td>\n",
       "      <td>24</td>\n",
       "      <td>2</td>\n",
       "      <td>10</td>\n",
       "      <td>11328</td>\n",
       "      <td>1</td>\n",
       "      <td>3</td>\n",
       "      <td>2</td>\n",
       "      <td>3</td>\n",
       "      <td>2</td>\n",
       "      <td>3.0</td>\n",
       "      <td>3</td>\n",
       "      <td>29</td>\n",
       "      <td>15</td>\n",
       "      <td>1</td>\n",
       "      <td>2</td>\n",
       "      <td>2.0</td>\n",
       "      <td>4</td>\n",
       "      <td>1</td>\n",
       "      <td>2</td>\n",
       "      <td>1</td>\n",
       "      <td>0</td>\n",
       "    </tr>\n",
       "    <tr>\n",
       "      <th>996</th>\n",
       "      <td>997</td>\n",
       "      <td>1</td>\n",
       "      <td>24</td>\n",
       "      <td>1</td>\n",
       "      <td>3</td>\n",
       "      <td>1546</td>\n",
       "      <td>1</td>\n",
       "      <td>4</td>\n",
       "      <td>4</td>\n",
       "      <td>3</td>\n",
       "      <td>3</td>\n",
       "      <td>4.0</td>\n",
       "      <td>3</td>\n",
       "      <td>24</td>\n",
       "      <td>43</td>\n",
       "      <td>1</td>\n",
       "      <td>1</td>\n",
       "      <td>1.0</td>\n",
       "      <td>2</td>\n",
       "      <td>1</td>\n",
       "      <td>1</td>\n",
       "      <td>1</td>\n",
       "      <td>0</td>\n",
       "    </tr>\n",
       "    <tr>\n",
       "      <th>997</th>\n",
       "      <td>998</td>\n",
       "      <td>4</td>\n",
       "      <td>15</td>\n",
       "      <td>4</td>\n",
       "      <td>3</td>\n",
       "      <td>1360</td>\n",
       "      <td>1</td>\n",
       "      <td>3</td>\n",
       "      <td>4</td>\n",
       "      <td>3</td>\n",
       "      <td>1</td>\n",
       "      <td>2.0</td>\n",
       "      <td>2</td>\n",
       "      <td>31</td>\n",
       "      <td>99</td>\n",
       "      <td>3</td>\n",
       "      <td>2</td>\n",
       "      <td>2.0</td>\n",
       "      <td>3</td>\n",
       "      <td>1</td>\n",
       "      <td>1</td>\n",
       "      <td>1</td>\n",
       "      <td>1</td>\n",
       "    </tr>\n",
       "    <tr>\n",
       "      <th>998</th>\n",
       "      <td>999</td>\n",
       "      <td>1</td>\n",
       "      <td>18</td>\n",
       "      <td>4</td>\n",
       "      <td>0</td>\n",
       "      <td>3966</td>\n",
       "      <td>1</td>\n",
       "      <td>5</td>\n",
       "      <td>1</td>\n",
       "      <td>2</td>\n",
       "      <td>1</td>\n",
       "      <td>4.0</td>\n",
       "      <td>1</td>\n",
       "      <td>33</td>\n",
       "      <td>8</td>\n",
       "      <td>1</td>\n",
       "      <td>1</td>\n",
       "      <td>3.0</td>\n",
       "      <td>3</td>\n",
       "      <td>1</td>\n",
       "      <td>2</td>\n",
       "      <td>1</td>\n",
       "      <td>0</td>\n",
       "    </tr>\n",
       "    <tr>\n",
       "      <th>999</th>\n",
       "      <td>1000</td>\n",
       "      <td>1</td>\n",
       "      <td>24</td>\n",
       "      <td>2</td>\n",
       "      <td>0</td>\n",
       "      <td>915</td>\n",
       "      <td>5</td>\n",
       "      <td>5</td>\n",
       "      <td>4</td>\n",
       "      <td>2</td>\n",
       "      <td>1</td>\n",
       "      <td>2.0</td>\n",
       "      <td>3</td>\n",
       "      <td>29</td>\n",
       "      <td>21</td>\n",
       "      <td>1</td>\n",
       "      <td>2</td>\n",
       "      <td>1.0</td>\n",
       "      <td>3</td>\n",
       "      <td>1</td>\n",
       "      <td>1</td>\n",
       "      <td>1</td>\n",
       "      <td>0</td>\n",
       "    </tr>\n",
       "  </tbody>\n",
       "</table>\n",
       "<p>936 rows × 23 columns</p>\n",
       "</div>"
      ],
      "text/plain": [
       "       ID  Checking_Account  Duration  Payment_Status  Purpose  Amount  \\\n",
       "0       1                 1        24               2        0    1442   \n",
       "1       2                 4        24               2        3    1413   \n",
       "2       3                 1        12               2        3    2214   \n",
       "3       4                 1        30               2        2    3108   \n",
       "4       5                 4        54               0        1    9436   \n",
       "..    ...               ...       ...             ...      ...     ...   \n",
       "995   996                 2        24               2       10   11328   \n",
       "996   997                 1        24               1        3    1546   \n",
       "997   998                 4        15               4        3    1360   \n",
       "998   999                 1        18               4        0    3966   \n",
       "999  1000                 1        24               2        0     915   \n",
       "\n",
       "     Savings_Account  Employment  Installment  Personal_Status  Guarantors  \\\n",
       "0                  1           4            4                2           1   \n",
       "1                  1           3            4                4           1   \n",
       "2                  1           3            4                3           1   \n",
       "3                  1           2            2                1           1   \n",
       "4                  5           3            2                3           1   \n",
       "..               ...         ...          ...              ...         ...   \n",
       "995                1           3            2                3           2   \n",
       "996                1           4            4                3           3   \n",
       "997                1           3            4                3           1   \n",
       "998                1           5            1                2           1   \n",
       "999                5           5            4                2           1   \n",
       "\n",
       "     Residence_Length  Assets  Age  Credit_Rating  Existing_Credits  \\\n",
       "0                 4.0       3   23              4                 3   \n",
       "1                 2.0       2   28             59                 3   \n",
       "2                 3.0       2   24             26                 3   \n",
       "3                 4.0       2   31             26                 3   \n",
       "4                 2.0       2   39             97                 3   \n",
       "..                ...     ...  ...            ...               ...   \n",
       "995               3.0       3   29             15                 1   \n",
       "996               4.0       3   24             43                 1   \n",
       "997               2.0       2   31             99                 3   \n",
       "998               4.0       1   33              8                 1   \n",
       "999               2.0       3   29             21                 1   \n",
       "\n",
       "     Housing_Type  Num_Credits  Occupation  Dependents  Telephone  \\\n",
       "0               1          2.0           3           1          1   \n",
       "1               2          1.0           3           1          1   \n",
       "2               2          1.0           2           1          1   \n",
       "3               2          1.0           2           1          1   \n",
       "4               2          1.0           2           2          1   \n",
       "..            ...          ...         ...         ...        ...   \n",
       "995             2          2.0           4           1          2   \n",
       "996             1          1.0           2           1          1   \n",
       "997             2          2.0           3           1          1   \n",
       "998             1          3.0           3           1          2   \n",
       "999             2          1.0           3           1          1   \n",
       "\n",
       "     Foreign_Worker  Approval  \n",
       "0                 1         0  \n",
       "1                 1         1  \n",
       "2                 1         1  \n",
       "3                 1         0  \n",
       "4                 1         1  \n",
       "..              ...       ...  \n",
       "995               1         0  \n",
       "996               1         0  \n",
       "997               1         1  \n",
       "998               1         0  \n",
       "999               1         0  \n",
       "\n",
       "[936 rows x 23 columns]"
      ]
     },
     "execution_count": 15,
     "metadata": {},
     "output_type": "execute_result"
    }
   ],
   "source": [
    "df[df['Residence_Length'].notnull()]"
   ]
  },
  {
   "cell_type": "markdown",
   "metadata": {},
   "source": [
    "For `Residence_Length` column, our team decided to drop the rows with missing value. There is no reasonable way for us to impute the missing data with a value. It does not make sense to impute the missing data with mode/median/mean as the `Residence_Length` value is completely random and we cannot assume a value for it as doing so will increase the noise within this dataset. "
   ]
  },
  {
   "cell_type": "code",
   "execution_count": 16,
   "metadata": {},
   "outputs": [],
   "source": [
    "df = df[df['Residence_Length'].notna()]\n",
    "num_rows = df.shape[0]"
   ]
  },
  {
   "cell_type": "code",
   "execution_count": 17,
   "metadata": {},
   "outputs": [
    {
     "name": "stdout",
     "output_type": "stream",
     "text": [
      "After dropping rows: \n",
      "# of rows: 936\n",
      "# of columns: 23\n"
     ]
    }
   ],
   "source": [
    "print('After dropping rows: ')\n",
    "print(f'# of rows: {num_rows}')\n",
    "print(f'# of columns: {num_cols}')"
   ]
  },
  {
   "cell_type": "markdown",
   "metadata": {},
   "source": [
    "**b.** For each variable, identify outliers (if any) and describe how you resolve the issue. Clearly state any assumption you made."
   ]
  },
  {
   "cell_type": "markdown",
   "metadata": {},
   "source": [
    "Based on the dataset provided we have identified that `Credit_Rating` and `Residence_Length` contains outliers\n",
    "\n",
    "\n",
    "- There are values where `Credit_Rating` is out of the range of between 1 to 100 (inclusive)\n",
    "\n",
    "- There are values where `Residence_Length` is out of the range of between 1 to 4 (inclusive)"
   ]
  },
  {
   "cell_type": "code",
   "execution_count": 18,
   "metadata": {},
   "outputs": [
    {
     "data": {
      "text/plain": [
       "array([1., 2., 3., 4., 5.])"
      ]
     },
     "execution_count": 18,
     "metadata": {},
     "output_type": "execute_result"
    }
   ],
   "source": [
    "np.sort(df['Residence_Length'].unique())"
   ]
  },
  {
   "cell_type": "code",
   "execution_count": 19,
   "metadata": {},
   "outputs": [
    {
     "data": {
      "text/plain": [
       "4.0    382\n",
       "2.0    281\n",
       "3.0    143\n",
       "1.0    119\n",
       "5.0     11\n",
       "Name: Residence_Length, dtype: int64"
      ]
     },
     "execution_count": 19,
     "metadata": {},
     "output_type": "execute_result"
    }
   ],
   "source": [
    "df['Residence_Length'].value_counts()"
   ]
  },
  {
   "cell_type": "code",
   "execution_count": 20,
   "metadata": {},
   "outputs": [
    {
     "data": {
      "text/plain": [
       "array([1., 2., 3., 4.])"
      ]
     },
     "execution_count": 20,
     "metadata": {},
     "output_type": "execute_result"
    }
   ],
   "source": [
    "df = df[df['Residence_Length'] != 5]\n",
    "np.sort(df['Residence_Length'].unique())"
   ]
  },
  {
   "cell_type": "markdown",
   "metadata": {},
   "source": [
    "As we can see `Residence_Length` contains outliers. The accepted values for `Residence_Length` is [1, 2, 3, 4] but there is value '5' in this dataset which is outside the accepted range hence we will have to drop it. There are 11 rows with value '5' for `Residence_Length`"
   ]
  },
  {
   "cell_type": "code",
   "execution_count": 21,
   "metadata": {},
   "outputs": [
    {
     "data": {
      "text/plain": [
       "array([-1,  0,  1,  2,  3,  4,  5,  6,  7,  8,  9, 10, 11, 12, 13, 14, 15,\n",
       "       16, 17, 18, 19, 20, 21, 22, 23, 24, 25, 26, 27, 28, 29, 31, 32, 33,\n",
       "       34, 35, 36, 37, 39, 41, 42, 43, 44, 45, 46, 47, 48, 49, 50, 51, 52,\n",
       "       53, 54, 55, 56, 57, 58, 59, 61, 62, 63, 65, 66, 67, 68, 69, 70, 71,\n",
       "       72, 73, 74, 75, 76, 77, 78, 79, 80, 81, 82, 83, 84, 85, 86, 87, 88,\n",
       "       89, 90, 91, 92, 93, 94, 95, 96, 97, 98, 99], dtype=int64)"
      ]
     },
     "execution_count": 21,
     "metadata": {},
     "output_type": "execute_result"
    }
   ],
   "source": [
    "np.sort(df['Credit_Rating'].unique())"
   ]
  },
  {
   "cell_type": "code",
   "execution_count": 22,
   "metadata": {},
   "outputs": [
    {
     "name": "stdout",
     "output_type": "stream",
     "text": [
      "# of row with 'Credit Rating' as value -1: 1\n",
      "# of row with 'Credit Rating' as value 0: 3\n"
     ]
    }
   ],
   "source": [
    "print(f\"# of row with 'Credit Rating' as value -1: {df['Credit_Rating'].value_counts()[-1]}\")\n",
    "print(f\"# of row with 'Credit Rating' as value 0: {df['Credit_Rating'].value_counts()[0]}\")"
   ]
  },
  {
   "cell_type": "code",
   "execution_count": 23,
   "metadata": {},
   "outputs": [
    {
     "data": {
      "text/plain": [
       "array([ 1,  2,  3,  4,  5,  6,  7,  8,  9, 10, 11, 12, 13, 14, 15, 16, 17,\n",
       "       18, 19, 20, 21, 22, 23, 24, 25, 26, 27, 28, 29, 31, 32, 33, 34, 35,\n",
       "       36, 37, 39, 41, 42, 43, 44, 45, 46, 47, 48, 49, 50, 51, 52, 53, 54,\n",
       "       55, 56, 57, 58, 59, 61, 62, 63, 65, 66, 67, 68, 69, 70, 71, 72, 73,\n",
       "       74, 75, 76, 77, 78, 79, 80, 81, 82, 83, 84, 85, 86, 87, 88, 89, 90,\n",
       "       91, 92, 93, 94, 95, 96, 97, 98, 99], dtype=int64)"
      ]
     },
     "execution_count": 23,
     "metadata": {},
     "output_type": "execute_result"
    }
   ],
   "source": [
    "df = df[df['Credit_Rating'] > 0]\n",
    "np.sort(df['Credit_Rating'].unique())"
   ]
  },
  {
   "cell_type": "markdown",
   "metadata": {},
   "source": [
    "As we can see `Credit_Rating` contains outliers. The accepted values for `Credit_Rating` is 1 to 100 but there is value '0 and '-1' in this dataset which is outside the accepted range hence we will have to drop it. There are 1 rows with value '-1' and 3 rows with value '0' for `Credit_Rating`"
   ]
  },
  {
   "cell_type": "code",
   "execution_count": 24,
   "metadata": {},
   "outputs": [
    {
     "data": {
      "text/plain": [
       "ID                  921\n",
       "Checking_Account    921\n",
       "Duration            921\n",
       "Payment_Status      921\n",
       "Purpose             921\n",
       "Amount              921\n",
       "Savings_Account     921\n",
       "Employment          921\n",
       "Installment         921\n",
       "Personal_Status     921\n",
       "Guarantors          921\n",
       "Residence_Length    921\n",
       "Assets              921\n",
       "Age                 921\n",
       "Credit_Rating       921\n",
       "Existing_Credits    921\n",
       "Housing_Type        921\n",
       "Num_Credits         921\n",
       "Occupation          921\n",
       "Dependents          921\n",
       "Telephone           921\n",
       "Foreign_Worker      921\n",
       "Approval            921\n",
       "dtype: int64"
      ]
     },
     "execution_count": 24,
     "metadata": {},
     "output_type": "execute_result"
    }
   ],
   "source": [
    "df.count()"
   ]
  },
  {
   "cell_type": "markdown",
   "metadata": {},
   "source": [
    "**c.** For categorical variables, perform the necessary encoding."
   ]
  },
  {
   "cell_type": "markdown",
   "metadata": {},
   "source": [
    "In order for us to be able to use categorical datatypes as strings, we will need to begin by converting them into strings. We will also proceed to convert all the floats to integers since we do not have any float values for this particular dataset"
   ]
  },
  {
   "cell_type": "code",
   "execution_count": 25,
   "metadata": {},
   "outputs": [
    {
     "data": {
      "text/plain": [
       "ID                  int64\n",
       "Checking_Account    int64\n",
       "Duration            int64\n",
       "Payment_Status      int64\n",
       "Purpose             int64\n",
       "Amount              int64\n",
       "Savings_Account     int64\n",
       "Employment          int64\n",
       "Installment         int64\n",
       "Personal_Status     int64\n",
       "Guarantors          int64\n",
       "Residence_Length    int64\n",
       "Assets              int64\n",
       "Age                 int64\n",
       "Credit_Rating       int64\n",
       "Existing_Credits    int64\n",
       "Housing_Type        int64\n",
       "Num_Credits         int64\n",
       "Occupation          int64\n",
       "Dependents          int64\n",
       "Telephone           int64\n",
       "Foreign_Worker      int64\n",
       "Approval            int64\n",
       "dtype: object"
      ]
     },
     "execution_count": 25,
     "metadata": {},
     "output_type": "execute_result"
    }
   ],
   "source": [
    "df[\"Residence_Length\"] = df[\"Residence_Length\"].astype(np.int64)\n",
    "df[\"Num_Credits\"] = df[\"Num_Credits\"].astype(np.int64)\n",
    "df.dtypes"
   ]
  },
  {
   "cell_type": "markdown",
   "metadata": {},
   "source": [
    "Changing `Residence_Length` and `Num_Credits` to interger and the expected values are all in integer, hence no need for floating point"
   ]
  },
  {
   "cell_type": "code",
   "execution_count": 26,
   "metadata": {},
   "outputs": [],
   "source": [
    "#Make a copy of original df and encode the new df `df_encoded`\n",
    "df_encoded = df.copy(deep=True)"
   ]
  },
  {
   "cell_type": "code",
   "execution_count": 27,
   "metadata": {},
   "outputs": [
    {
     "data": {
      "text/plain": [
       "4    363\n",
       "2    251\n",
       "1    248\n",
       "3     59\n",
       "Name: Checking_Account, dtype: int64"
      ]
     },
     "execution_count": 27,
     "metadata": {},
     "output_type": "execute_result"
    }
   ],
   "source": [
    "df_encoded['Checking_Account'].value_counts()"
   ]
  },
  {
   "cell_type": "code",
   "execution_count": 28,
   "metadata": {},
   "outputs": [
    {
     "data": {
      "text/plain": [
       "0    363\n",
       "2    251\n",
       "1    248\n",
       "3     59\n",
       "Name: Checking_Account, dtype: int64"
      ]
     },
     "execution_count": 28,
     "metadata": {},
     "output_type": "execute_result"
    }
   ],
   "source": [
    "df_encoded['Checking_Account'] = df_encoded['Checking_Account'].replace(4, 0)\n",
    "df_encoded['Checking_Account'].value_counts()"
   ]
  },
  {
   "cell_type": "markdown",
   "metadata": {},
   "source": [
    "`Checking_Account` value '4' is placed with '0' as having no checking account should be rank lower than having one <br>\n",
    "1: \\\\$0 </br>\n",
    "2: <\\\\$200 <br>\n",
    "3: >=\\\\$200 <br>\n",
    "4: no checking account (Changed to value 0)"
   ]
  },
  {
   "cell_type": "code",
   "execution_count": 29,
   "metadata": {},
   "outputs": [
    {
     "data": {
      "text/plain": [
       "1    553\n",
       "5    168\n",
       "2     94\n",
       "3     60\n",
       "4     46\n",
       "Name: Savings_Account, dtype: int64"
      ]
     },
     "execution_count": 29,
     "metadata": {},
     "output_type": "execute_result"
    }
   ],
   "source": [
    "df_encoded['Savings_Account'].value_counts()"
   ]
  },
  {
   "cell_type": "code",
   "execution_count": 30,
   "metadata": {},
   "outputs": [
    {
     "data": {
      "text/plain": [
       "1    553\n",
       "0    168\n",
       "2     94\n",
       "3     60\n",
       "4     46\n",
       "Name: Savings_Account, dtype: int64"
      ]
     },
     "execution_count": 30,
     "metadata": {},
     "output_type": "execute_result"
    }
   ],
   "source": [
    "df_encoded['Savings_Account'] = df_encoded['Savings_Account'].replace(5, 0)\n",
    "df_encoded['Savings_Account'].value_counts()"
   ]
  },
  {
   "cell_type": "markdown",
   "metadata": {},
   "source": [
    "`Savings_Account` value '5' is placed with '0' as having no savings account/unknown should be rank lower than having one <br>"
   ]
  },
  {
   "cell_type": "code",
   "execution_count": 31,
   "metadata": {},
   "outputs": [
    {
     "data": {
      "text/plain": [
       "3     259\n",
       "0     214\n",
       "2     170\n",
       "1      96\n",
       "9      89\n",
       "6      43\n",
       "5      19\n",
       "4      12\n",
       "10     10\n",
       "8       9\n",
       "Name: Purpose, dtype: int64"
      ]
     },
     "execution_count": 31,
     "metadata": {},
     "output_type": "execute_result"
    }
   ],
   "source": [
    "df_encoded['Purpose'].value_counts()"
   ]
  },
  {
   "cell_type": "code",
   "execution_count": 32,
   "metadata": {},
   "outputs": [],
   "source": [
    "df_encoded['Telephone'] = df_encoded['Telephone'].replace(1, 0)\n",
    "df_encoded['Telephone'] = df_encoded['Telephone'].replace(2, 1)\n",
    "df_encoded['Foreign_Worker'] = df_encoded['Foreign_Worker'].replace(2, 0)"
   ]
  },
  {
   "cell_type": "code",
   "execution_count": 33,
   "metadata": {},
   "outputs": [
    {
     "data": {
      "text/plain": [
       "0    550\n",
       "1    371\n",
       "Name: Telephone, dtype: int64"
      ]
     },
     "execution_count": 33,
     "metadata": {},
     "output_type": "execute_result"
    }
   ],
   "source": [
    "df_encoded['Telephone'].value_counts()"
   ]
  },
  {
   "cell_type": "code",
   "execution_count": 34,
   "metadata": {},
   "outputs": [
    {
     "data": {
      "text/plain": [
       "1    887\n",
       "0     34\n",
       "Name: Foreign_Worker, dtype: int64"
      ]
     },
     "execution_count": 34,
     "metadata": {},
     "output_type": "execute_result"
    }
   ],
   "source": [
    "df_encoded['Foreign_Worker'].value_counts()"
   ]
  },
  {
   "cell_type": "markdown",
   "metadata": {},
   "source": [
    "Both `Telephone` and `Foreign_Worker` column should be changed into binary value and does not suggest order preference"
   ]
  },
  {
   "cell_type": "code",
   "execution_count": 35,
   "metadata": {},
   "outputs": [
    {
     "data": {
      "text/html": [
       "<div>\n",
       "<style scoped>\n",
       "    .dataframe tbody tr th:only-of-type {\n",
       "        vertical-align: middle;\n",
       "    }\n",
       "\n",
       "    .dataframe tbody tr th {\n",
       "        vertical-align: top;\n",
       "    }\n",
       "\n",
       "    .dataframe thead th {\n",
       "        text-align: right;\n",
       "    }\n",
       "</style>\n",
       "<table border=\"1\" class=\"dataframe\">\n",
       "  <thead>\n",
       "    <tr style=\"text-align: right;\">\n",
       "      <th></th>\n",
       "      <th>ID</th>\n",
       "      <th>Checking_Account</th>\n",
       "      <th>Duration</th>\n",
       "      <th>Payment_Status</th>\n",
       "      <th>Purpose</th>\n",
       "      <th>Amount</th>\n",
       "      <th>Savings_Account</th>\n",
       "      <th>Employment</th>\n",
       "      <th>Installment</th>\n",
       "      <th>Personal_Status</th>\n",
       "      <th>Guarantors</th>\n",
       "      <th>Residence_Length</th>\n",
       "      <th>Assets</th>\n",
       "      <th>Age</th>\n",
       "      <th>Credit_Rating</th>\n",
       "      <th>Existing_Credits</th>\n",
       "      <th>Housing_Type</th>\n",
       "      <th>Num_Credits</th>\n",
       "      <th>Occupation</th>\n",
       "      <th>Dependents</th>\n",
       "      <th>Telephone</th>\n",
       "      <th>Foreign_Worker</th>\n",
       "      <th>Approval</th>\n",
       "      <th>EC_2</th>\n",
       "      <th>EC_3</th>\n",
       "      <th>G_2</th>\n",
       "      <th>G_3</th>\n",
       "      <th>PS_1</th>\n",
       "      <th>PS_2</th>\n",
       "      <th>PS_3</th>\n",
       "      <th>PS_4</th>\n",
       "      <th>P_0</th>\n",
       "      <th>P_1</th>\n",
       "      <th>P_2</th>\n",
       "      <th>P_3</th>\n",
       "      <th>P_4</th>\n",
       "      <th>P_5</th>\n",
       "      <th>P_6</th>\n",
       "      <th>P_8</th>\n",
       "      <th>P_9</th>\n",
       "      <th>P_10</th>\n",
       "    </tr>\n",
       "  </thead>\n",
       "  <tbody>\n",
       "    <tr>\n",
       "      <th>0</th>\n",
       "      <td>1</td>\n",
       "      <td>1</td>\n",
       "      <td>24</td>\n",
       "      <td>2</td>\n",
       "      <td>0</td>\n",
       "      <td>1442</td>\n",
       "      <td>1</td>\n",
       "      <td>4</td>\n",
       "      <td>4</td>\n",
       "      <td>2</td>\n",
       "      <td>1</td>\n",
       "      <td>4</td>\n",
       "      <td>3</td>\n",
       "      <td>23</td>\n",
       "      <td>4</td>\n",
       "      <td>3</td>\n",
       "      <td>1</td>\n",
       "      <td>2</td>\n",
       "      <td>3</td>\n",
       "      <td>1</td>\n",
       "      <td>0</td>\n",
       "      <td>1</td>\n",
       "      <td>0</td>\n",
       "      <td>0</td>\n",
       "      <td>1</td>\n",
       "      <td>0</td>\n",
       "      <td>0</td>\n",
       "      <td>0</td>\n",
       "      <td>1</td>\n",
       "      <td>0</td>\n",
       "      <td>0</td>\n",
       "      <td>1</td>\n",
       "      <td>0</td>\n",
       "      <td>0</td>\n",
       "      <td>0</td>\n",
       "      <td>0</td>\n",
       "      <td>0</td>\n",
       "      <td>0</td>\n",
       "      <td>0</td>\n",
       "      <td>0</td>\n",
       "      <td>0</td>\n",
       "    </tr>\n",
       "    <tr>\n",
       "      <th>1</th>\n",
       "      <td>2</td>\n",
       "      <td>0</td>\n",
       "      <td>24</td>\n",
       "      <td>2</td>\n",
       "      <td>3</td>\n",
       "      <td>1413</td>\n",
       "      <td>1</td>\n",
       "      <td>3</td>\n",
       "      <td>4</td>\n",
       "      <td>4</td>\n",
       "      <td>1</td>\n",
       "      <td>2</td>\n",
       "      <td>2</td>\n",
       "      <td>28</td>\n",
       "      <td>59</td>\n",
       "      <td>3</td>\n",
       "      <td>2</td>\n",
       "      <td>1</td>\n",
       "      <td>3</td>\n",
       "      <td>1</td>\n",
       "      <td>0</td>\n",
       "      <td>1</td>\n",
       "      <td>1</td>\n",
       "      <td>0</td>\n",
       "      <td>1</td>\n",
       "      <td>0</td>\n",
       "      <td>0</td>\n",
       "      <td>0</td>\n",
       "      <td>0</td>\n",
       "      <td>0</td>\n",
       "      <td>1</td>\n",
       "      <td>0</td>\n",
       "      <td>0</td>\n",
       "      <td>0</td>\n",
       "      <td>1</td>\n",
       "      <td>0</td>\n",
       "      <td>0</td>\n",
       "      <td>0</td>\n",
       "      <td>0</td>\n",
       "      <td>0</td>\n",
       "      <td>0</td>\n",
       "    </tr>\n",
       "    <tr>\n",
       "      <th>2</th>\n",
       "      <td>3</td>\n",
       "      <td>1</td>\n",
       "      <td>12</td>\n",
       "      <td>2</td>\n",
       "      <td>3</td>\n",
       "      <td>2214</td>\n",
       "      <td>1</td>\n",
       "      <td>3</td>\n",
       "      <td>4</td>\n",
       "      <td>3</td>\n",
       "      <td>1</td>\n",
       "      <td>3</td>\n",
       "      <td>2</td>\n",
       "      <td>24</td>\n",
       "      <td>26</td>\n",
       "      <td>3</td>\n",
       "      <td>2</td>\n",
       "      <td>1</td>\n",
       "      <td>2</td>\n",
       "      <td>1</td>\n",
       "      <td>0</td>\n",
       "      <td>1</td>\n",
       "      <td>1</td>\n",
       "      <td>0</td>\n",
       "      <td>1</td>\n",
       "      <td>0</td>\n",
       "      <td>0</td>\n",
       "      <td>0</td>\n",
       "      <td>0</td>\n",
       "      <td>1</td>\n",
       "      <td>0</td>\n",
       "      <td>0</td>\n",
       "      <td>0</td>\n",
       "      <td>0</td>\n",
       "      <td>1</td>\n",
       "      <td>0</td>\n",
       "      <td>0</td>\n",
       "      <td>0</td>\n",
       "      <td>0</td>\n",
       "      <td>0</td>\n",
       "      <td>0</td>\n",
       "    </tr>\n",
       "    <tr>\n",
       "      <th>3</th>\n",
       "      <td>4</td>\n",
       "      <td>1</td>\n",
       "      <td>30</td>\n",
       "      <td>2</td>\n",
       "      <td>2</td>\n",
       "      <td>3108</td>\n",
       "      <td>1</td>\n",
       "      <td>2</td>\n",
       "      <td>2</td>\n",
       "      <td>1</td>\n",
       "      <td>1</td>\n",
       "      <td>4</td>\n",
       "      <td>2</td>\n",
       "      <td>31</td>\n",
       "      <td>26</td>\n",
       "      <td>3</td>\n",
       "      <td>2</td>\n",
       "      <td>1</td>\n",
       "      <td>2</td>\n",
       "      <td>1</td>\n",
       "      <td>0</td>\n",
       "      <td>1</td>\n",
       "      <td>0</td>\n",
       "      <td>0</td>\n",
       "      <td>1</td>\n",
       "      <td>0</td>\n",
       "      <td>0</td>\n",
       "      <td>1</td>\n",
       "      <td>0</td>\n",
       "      <td>0</td>\n",
       "      <td>0</td>\n",
       "      <td>0</td>\n",
       "      <td>0</td>\n",
       "      <td>1</td>\n",
       "      <td>0</td>\n",
       "      <td>0</td>\n",
       "      <td>0</td>\n",
       "      <td>0</td>\n",
       "      <td>0</td>\n",
       "      <td>0</td>\n",
       "      <td>0</td>\n",
       "    </tr>\n",
       "    <tr>\n",
       "      <th>4</th>\n",
       "      <td>5</td>\n",
       "      <td>0</td>\n",
       "      <td>54</td>\n",
       "      <td>0</td>\n",
       "      <td>1</td>\n",
       "      <td>9436</td>\n",
       "      <td>0</td>\n",
       "      <td>3</td>\n",
       "      <td>2</td>\n",
       "      <td>3</td>\n",
       "      <td>1</td>\n",
       "      <td>2</td>\n",
       "      <td>2</td>\n",
       "      <td>39</td>\n",
       "      <td>97</td>\n",
       "      <td>3</td>\n",
       "      <td>2</td>\n",
       "      <td>1</td>\n",
       "      <td>2</td>\n",
       "      <td>2</td>\n",
       "      <td>0</td>\n",
       "      <td>1</td>\n",
       "      <td>1</td>\n",
       "      <td>0</td>\n",
       "      <td>1</td>\n",
       "      <td>0</td>\n",
       "      <td>0</td>\n",
       "      <td>0</td>\n",
       "      <td>0</td>\n",
       "      <td>1</td>\n",
       "      <td>0</td>\n",
       "      <td>0</td>\n",
       "      <td>1</td>\n",
       "      <td>0</td>\n",
       "      <td>0</td>\n",
       "      <td>0</td>\n",
       "      <td>0</td>\n",
       "      <td>0</td>\n",
       "      <td>0</td>\n",
       "      <td>0</td>\n",
       "      <td>0</td>\n",
       "    </tr>\n",
       "    <tr>\n",
       "      <th>...</th>\n",
       "      <td>...</td>\n",
       "      <td>...</td>\n",
       "      <td>...</td>\n",
       "      <td>...</td>\n",
       "      <td>...</td>\n",
       "      <td>...</td>\n",
       "      <td>...</td>\n",
       "      <td>...</td>\n",
       "      <td>...</td>\n",
       "      <td>...</td>\n",
       "      <td>...</td>\n",
       "      <td>...</td>\n",
       "      <td>...</td>\n",
       "      <td>...</td>\n",
       "      <td>...</td>\n",
       "      <td>...</td>\n",
       "      <td>...</td>\n",
       "      <td>...</td>\n",
       "      <td>...</td>\n",
       "      <td>...</td>\n",
       "      <td>...</td>\n",
       "      <td>...</td>\n",
       "      <td>...</td>\n",
       "      <td>...</td>\n",
       "      <td>...</td>\n",
       "      <td>...</td>\n",
       "      <td>...</td>\n",
       "      <td>...</td>\n",
       "      <td>...</td>\n",
       "      <td>...</td>\n",
       "      <td>...</td>\n",
       "      <td>...</td>\n",
       "      <td>...</td>\n",
       "      <td>...</td>\n",
       "      <td>...</td>\n",
       "      <td>...</td>\n",
       "      <td>...</td>\n",
       "      <td>...</td>\n",
       "      <td>...</td>\n",
       "      <td>...</td>\n",
       "      <td>...</td>\n",
       "    </tr>\n",
       "    <tr>\n",
       "      <th>995</th>\n",
       "      <td>996</td>\n",
       "      <td>2</td>\n",
       "      <td>24</td>\n",
       "      <td>2</td>\n",
       "      <td>10</td>\n",
       "      <td>11328</td>\n",
       "      <td>1</td>\n",
       "      <td>3</td>\n",
       "      <td>2</td>\n",
       "      <td>3</td>\n",
       "      <td>2</td>\n",
       "      <td>3</td>\n",
       "      <td>3</td>\n",
       "      <td>29</td>\n",
       "      <td>15</td>\n",
       "      <td>1</td>\n",
       "      <td>2</td>\n",
       "      <td>2</td>\n",
       "      <td>4</td>\n",
       "      <td>1</td>\n",
       "      <td>1</td>\n",
       "      <td>1</td>\n",
       "      <td>0</td>\n",
       "      <td>0</td>\n",
       "      <td>0</td>\n",
       "      <td>1</td>\n",
       "      <td>0</td>\n",
       "      <td>0</td>\n",
       "      <td>0</td>\n",
       "      <td>1</td>\n",
       "      <td>0</td>\n",
       "      <td>0</td>\n",
       "      <td>0</td>\n",
       "      <td>0</td>\n",
       "      <td>0</td>\n",
       "      <td>0</td>\n",
       "      <td>0</td>\n",
       "      <td>0</td>\n",
       "      <td>0</td>\n",
       "      <td>0</td>\n",
       "      <td>1</td>\n",
       "    </tr>\n",
       "    <tr>\n",
       "      <th>996</th>\n",
       "      <td>997</td>\n",
       "      <td>1</td>\n",
       "      <td>24</td>\n",
       "      <td>1</td>\n",
       "      <td>3</td>\n",
       "      <td>1546</td>\n",
       "      <td>1</td>\n",
       "      <td>4</td>\n",
       "      <td>4</td>\n",
       "      <td>3</td>\n",
       "      <td>3</td>\n",
       "      <td>4</td>\n",
       "      <td>3</td>\n",
       "      <td>24</td>\n",
       "      <td>43</td>\n",
       "      <td>1</td>\n",
       "      <td>1</td>\n",
       "      <td>1</td>\n",
       "      <td>2</td>\n",
       "      <td>1</td>\n",
       "      <td>0</td>\n",
       "      <td>1</td>\n",
       "      <td>0</td>\n",
       "      <td>0</td>\n",
       "      <td>0</td>\n",
       "      <td>0</td>\n",
       "      <td>1</td>\n",
       "      <td>0</td>\n",
       "      <td>0</td>\n",
       "      <td>1</td>\n",
       "      <td>0</td>\n",
       "      <td>0</td>\n",
       "      <td>0</td>\n",
       "      <td>0</td>\n",
       "      <td>1</td>\n",
       "      <td>0</td>\n",
       "      <td>0</td>\n",
       "      <td>0</td>\n",
       "      <td>0</td>\n",
       "      <td>0</td>\n",
       "      <td>0</td>\n",
       "    </tr>\n",
       "    <tr>\n",
       "      <th>997</th>\n",
       "      <td>998</td>\n",
       "      <td>0</td>\n",
       "      <td>15</td>\n",
       "      <td>4</td>\n",
       "      <td>3</td>\n",
       "      <td>1360</td>\n",
       "      <td>1</td>\n",
       "      <td>3</td>\n",
       "      <td>4</td>\n",
       "      <td>3</td>\n",
       "      <td>1</td>\n",
       "      <td>2</td>\n",
       "      <td>2</td>\n",
       "      <td>31</td>\n",
       "      <td>99</td>\n",
       "      <td>3</td>\n",
       "      <td>2</td>\n",
       "      <td>2</td>\n",
       "      <td>3</td>\n",
       "      <td>1</td>\n",
       "      <td>0</td>\n",
       "      <td>1</td>\n",
       "      <td>1</td>\n",
       "      <td>0</td>\n",
       "      <td>1</td>\n",
       "      <td>0</td>\n",
       "      <td>0</td>\n",
       "      <td>0</td>\n",
       "      <td>0</td>\n",
       "      <td>1</td>\n",
       "      <td>0</td>\n",
       "      <td>0</td>\n",
       "      <td>0</td>\n",
       "      <td>0</td>\n",
       "      <td>1</td>\n",
       "      <td>0</td>\n",
       "      <td>0</td>\n",
       "      <td>0</td>\n",
       "      <td>0</td>\n",
       "      <td>0</td>\n",
       "      <td>0</td>\n",
       "    </tr>\n",
       "    <tr>\n",
       "      <th>998</th>\n",
       "      <td>999</td>\n",
       "      <td>1</td>\n",
       "      <td>18</td>\n",
       "      <td>4</td>\n",
       "      <td>0</td>\n",
       "      <td>3966</td>\n",
       "      <td>1</td>\n",
       "      <td>5</td>\n",
       "      <td>1</td>\n",
       "      <td>2</td>\n",
       "      <td>1</td>\n",
       "      <td>4</td>\n",
       "      <td>1</td>\n",
       "      <td>33</td>\n",
       "      <td>8</td>\n",
       "      <td>1</td>\n",
       "      <td>1</td>\n",
       "      <td>3</td>\n",
       "      <td>3</td>\n",
       "      <td>1</td>\n",
       "      <td>1</td>\n",
       "      <td>1</td>\n",
       "      <td>0</td>\n",
       "      <td>0</td>\n",
       "      <td>0</td>\n",
       "      <td>0</td>\n",
       "      <td>0</td>\n",
       "      <td>0</td>\n",
       "      <td>1</td>\n",
       "      <td>0</td>\n",
       "      <td>0</td>\n",
       "      <td>1</td>\n",
       "      <td>0</td>\n",
       "      <td>0</td>\n",
       "      <td>0</td>\n",
       "      <td>0</td>\n",
       "      <td>0</td>\n",
       "      <td>0</td>\n",
       "      <td>0</td>\n",
       "      <td>0</td>\n",
       "      <td>0</td>\n",
       "    </tr>\n",
       "    <tr>\n",
       "      <th>999</th>\n",
       "      <td>1000</td>\n",
       "      <td>1</td>\n",
       "      <td>24</td>\n",
       "      <td>2</td>\n",
       "      <td>0</td>\n",
       "      <td>915</td>\n",
       "      <td>0</td>\n",
       "      <td>5</td>\n",
       "      <td>4</td>\n",
       "      <td>2</td>\n",
       "      <td>1</td>\n",
       "      <td>2</td>\n",
       "      <td>3</td>\n",
       "      <td>29</td>\n",
       "      <td>21</td>\n",
       "      <td>1</td>\n",
       "      <td>2</td>\n",
       "      <td>1</td>\n",
       "      <td>3</td>\n",
       "      <td>1</td>\n",
       "      <td>0</td>\n",
       "      <td>1</td>\n",
       "      <td>0</td>\n",
       "      <td>0</td>\n",
       "      <td>0</td>\n",
       "      <td>0</td>\n",
       "      <td>0</td>\n",
       "      <td>0</td>\n",
       "      <td>1</td>\n",
       "      <td>0</td>\n",
       "      <td>0</td>\n",
       "      <td>1</td>\n",
       "      <td>0</td>\n",
       "      <td>0</td>\n",
       "      <td>0</td>\n",
       "      <td>0</td>\n",
       "      <td>0</td>\n",
       "      <td>0</td>\n",
       "      <td>0</td>\n",
       "      <td>0</td>\n",
       "      <td>0</td>\n",
       "    </tr>\n",
       "  </tbody>\n",
       "</table>\n",
       "<p>921 rows × 41 columns</p>\n",
       "</div>"
      ],
      "text/plain": [
       "       ID  Checking_Account  Duration  Payment_Status  Purpose  Amount  \\\n",
       "0       1                 1        24               2        0    1442   \n",
       "1       2                 0        24               2        3    1413   \n",
       "2       3                 1        12               2        3    2214   \n",
       "3       4                 1        30               2        2    3108   \n",
       "4       5                 0        54               0        1    9436   \n",
       "..    ...               ...       ...             ...      ...     ...   \n",
       "995   996                 2        24               2       10   11328   \n",
       "996   997                 1        24               1        3    1546   \n",
       "997   998                 0        15               4        3    1360   \n",
       "998   999                 1        18               4        0    3966   \n",
       "999  1000                 1        24               2        0     915   \n",
       "\n",
       "     Savings_Account  Employment  Installment  Personal_Status  Guarantors  \\\n",
       "0                  1           4            4                2           1   \n",
       "1                  1           3            4                4           1   \n",
       "2                  1           3            4                3           1   \n",
       "3                  1           2            2                1           1   \n",
       "4                  0           3            2                3           1   \n",
       "..               ...         ...          ...              ...         ...   \n",
       "995                1           3            2                3           2   \n",
       "996                1           4            4                3           3   \n",
       "997                1           3            4                3           1   \n",
       "998                1           5            1                2           1   \n",
       "999                0           5            4                2           1   \n",
       "\n",
       "     Residence_Length  Assets  Age  Credit_Rating  Existing_Credits  \\\n",
       "0                   4       3   23              4                 3   \n",
       "1                   2       2   28             59                 3   \n",
       "2                   3       2   24             26                 3   \n",
       "3                   4       2   31             26                 3   \n",
       "4                   2       2   39             97                 3   \n",
       "..                ...     ...  ...            ...               ...   \n",
       "995                 3       3   29             15                 1   \n",
       "996                 4       3   24             43                 1   \n",
       "997                 2       2   31             99                 3   \n",
       "998                 4       1   33              8                 1   \n",
       "999                 2       3   29             21                 1   \n",
       "\n",
       "     Housing_Type  Num_Credits  Occupation  Dependents  Telephone  \\\n",
       "0               1            2           3           1          0   \n",
       "1               2            1           3           1          0   \n",
       "2               2            1           2           1          0   \n",
       "3               2            1           2           1          0   \n",
       "4               2            1           2           2          0   \n",
       "..            ...          ...         ...         ...        ...   \n",
       "995             2            2           4           1          1   \n",
       "996             1            1           2           1          0   \n",
       "997             2            2           3           1          0   \n",
       "998             1            3           3           1          1   \n",
       "999             2            1           3           1          0   \n",
       "\n",
       "     Foreign_Worker  Approval  EC_2  EC_3  G_2  G_3  PS_1  PS_2  PS_3  PS_4  \\\n",
       "0                 1         0     0     1    0    0     0     1     0     0   \n",
       "1                 1         1     0     1    0    0     0     0     0     1   \n",
       "2                 1         1     0     1    0    0     0     0     1     0   \n",
       "3                 1         0     0     1    0    0     1     0     0     0   \n",
       "4                 1         1     0     1    0    0     0     0     1     0   \n",
       "..              ...       ...   ...   ...  ...  ...   ...   ...   ...   ...   \n",
       "995               1         0     0     0    1    0     0     0     1     0   \n",
       "996               1         0     0     0    0    1     0     0     1     0   \n",
       "997               1         1     0     1    0    0     0     0     1     0   \n",
       "998               1         0     0     0    0    0     0     1     0     0   \n",
       "999               1         0     0     0    0    0     0     1     0     0   \n",
       "\n",
       "     P_0  P_1  P_2  P_3  P_4  P_5  P_6  P_8  P_9  P_10  \n",
       "0      1    0    0    0    0    0    0    0    0     0  \n",
       "1      0    0    0    1    0    0    0    0    0     0  \n",
       "2      0    0    0    1    0    0    0    0    0     0  \n",
       "3      0    0    1    0    0    0    0    0    0     0  \n",
       "4      0    1    0    0    0    0    0    0    0     0  \n",
       "..   ...  ...  ...  ...  ...  ...  ...  ...  ...   ...  \n",
       "995    0    0    0    0    0    0    0    0    0     1  \n",
       "996    0    0    0    1    0    0    0    0    0     0  \n",
       "997    0    0    0    1    0    0    0    0    0     0  \n",
       "998    1    0    0    0    0    0    0    0    0     0  \n",
       "999    1    0    0    0    0    0    0    0    0     0  \n",
       "\n",
       "[921 rows x 41 columns]"
      ]
     },
     "execution_count": 35,
     "metadata": {},
     "output_type": "execute_result"
    }
   ],
   "source": [
    "dummyEC = pd.get_dummies(df['Existing_Credits'], prefix='EC', drop_first=True)\n",
    "df_encoded = df_encoded.join(dummyEC)\n",
    "\n",
    "dummyG = pd.get_dummies(df['Guarantors'], prefix='G', drop_first=True)\n",
    "df_encoded = df_encoded.join(dummyG)\n",
    "\n",
    "dummyPS = pd.get_dummies(df['Personal_Status'], prefix='PS')\n",
    "df_encoded = df_encoded.join(dummyPS)\n",
    "\n",
    "dummyP = pd.get_dummies(df['Purpose'], prefix='P')\n",
    "df_encoded = df_encoded.join(dummyP)\n",
    "\n",
    "df_encoded"
   ]
  },
  {
   "cell_type": "markdown",
   "metadata": {},
   "source": [
    "The four columns above (`Existing_Credits`, `Gaurantors`, `Personal_Status`, `Purpose`) are all one hot encoded as they are norminal value. `Existing_Credits` and `Guarantors` both drop the first column because 0 in both 'EC_2', 'EC_3' and 'G_1', 'G_2' repreasents no existing credits and no gaurantors respectively."
   ]
  },
  {
   "cell_type": "code",
   "execution_count": 36,
   "metadata": {},
   "outputs": [],
   "source": [
    "df_encoded = df_encoded.drop(columns=['Existing_Credits', 'Guarantors', 'Personal_Status', 'Purpose'])"
   ]
  },
  {
   "cell_type": "markdown",
   "metadata": {},
   "source": [
    "Finally we drop the original columns to prepare the df for model training"
   ]
  },
  {
   "cell_type": "markdown",
   "metadata": {},
   "source": [
    "### 3.\tExploratory analysis and visualization [50% of Part I]"
   ]
  },
  {
   "cell_type": "markdown",
   "metadata": {},
   "source": [
    "**a.** For each variable, provide relevant summary statistics"
   ]
  },
  {
   "cell_type": "markdown",
   "metadata": {},
   "source": [
    "We begin by reviewing the mode of categorical datatype and their respective value count of mode"
   ]
  },
  {
   "cell_type": "code",
   "execution_count": null,
   "metadata": {},
   "outputs": [],
   "source": [
    "payment_status_data = df[\"Payment_Status\"].value_counts()\n",
    "payment_status_data = payment_status_data.rename(index={\n",
    "    '0':'No credits taken',\n",
    "    '1':'All paid back',\n",
    "    '2':'Paid existing credits',\n",
    "    '3':'Delayed in the past',\n",
    "    '4':'Critical Account'\n",
    "})\n",
    "\n",
    "payment_status_data"
   ]
  },
  {
   "cell_type": "markdown",
   "metadata": {},
   "source": [
    "**b.** For each variable, provide an appropriate visualisation depicting the distribution of its values, and summarize any key observation(s) you made."
   ]
  },
  {
   "cell_type": "code",
   "execution_count": null,
   "metadata": {},
   "outputs": [],
   "source": [
    "import matplotlib.pyplot as plt\n",
    "df"
   ]
  },
  {
   "cell_type": "markdown",
   "metadata": {},
   "source": [
    "Let's begin with the dependent variable to visualize how many of them have their credit requests approved"
   ]
  },
  {
   "cell_type": "code",
   "execution_count": null,
   "metadata": {},
   "outputs": [],
   "source": [
    "approval_data = df[\"Approval\"].value_counts(normalize=True)\n",
    "\n",
    "plt.figure(figsize=(8,5))\n",
    "plt.bar(approval_data.index.map({'0':'Rejected', '1':'Approved'}), approval_data)\n",
    "plt.title(\"Approval Rate\", fontsize=15)\n",
    "plt.xlabel(\"Status of Approval\")\n",
    "plt.ylabel(\"Probability\", fontsize=12)\n",
    "plt.show()"
   ]
  },
  {
   "cell_type": "code",
   "execution_count": null,
   "metadata": {},
   "outputs": [],
   "source": [
    "unique_count = df[\"ID\"].nunique()\n",
    "n_rows, n_cols = df.shape\n",
    "print(f\"# unique PassengerId : {unique_count}\")\n",
    "print(f\"# rows : {n_rows}\")"
   ]
  },
  {
   "cell_type": "markdown",
   "metadata": {},
   "source": [
    "Let's have a look at frequency of each categorical data in the dataset"
   ]
  },
  {
   "cell_type": "code",
   "execution_count": null,
   "metadata": {},
   "outputs": [],
   "source": [
    "checking_acc_data = df[\"Checking_Account\"].value_counts(normalize=True)\n",
    "\n",
    "plt.figure(figsize=(8,5))\n",
    "plt.barh(checking_acc_data.index.map({\n",
    "    '1':'$0',\n",
    "    '2':'<$200',\n",
    "    '3':'>=$200',\n",
    "    '4':'No C.A.'\n",
    "}), checking_acc_data)\n",
    "plt.title(\"Distribution of Checking Account\", fontsize=15)\n",
    "plt.xlabel(\"Probability\", fontsize=12)\n",
    "plt.ylabel(\"Checking Account Status\", fontsize=12)\n",
    "plt.show()"
   ]
  },
  {
   "cell_type": "code",
   "execution_count": null,
   "metadata": {},
   "outputs": [],
   "source": [
    "payment_status_data = df[\"Payment_Status\"].value_counts(normalize=True)\n",
    "\n",
    "plt.figure(figsize=(8,5))\n",
    "plt.barh(payment_status_data.index.map({\n",
    "    '0':'No credits taken',\n",
    "    '1':'All paid back',\n",
    "    '2':'Paid existing credits',\n",
    "    '3':'Delayed in the past',\n",
    "    '4':'Critical Account'\n",
    "}), payment_status_data)\n",
    "plt.title(\"Distribution of Payment Status\", fontsize=15)\n",
    "plt.xlabel(\"Probability\", fontsize=12)\n",
    "plt.ylabel(\"Credit History\", fontsize=12)\n",
    "plt.show()"
   ]
  },
  {
   "cell_type": "code",
   "execution_count": null,
   "metadata": {},
   "outputs": [],
   "source": [
    "purpose_data = df[\"Purpose\"].value_counts(normalize=True)\n",
    "\n",
    "plt.figure(figsize=(8,5))\n",
    "plt.barh(purpose_data.index.map({\n",
    "    '0':'Purchase of new car',\n",
    "    '1':'Purchase of used car',\n",
    "    '2':'Purchase of furniture/equipment',\n",
    "    '3':'Purchase of radio/television',\n",
    "    '4':'Purchase of domestic appliances',\n",
    "    '5':'Repairation Purposes',\n",
    "    '6':'Education Purposes',\n",
    "    '7':'Vacation Purposes',\n",
    "    '8':'Retraining Purposes',\n",
    "    '9':'Business Purposes',\n",
    "    '10':'Others',\n",
    "}), purpose_data)\n",
    "plt.title(\"Distribution of Purpose of Credit Request\", fontsize=15)\n",
    "plt.xlabel(\"Probability\", fontsize=12)\n",
    "plt.ylabel(\"Purpose of Credit\", fontsize=12)\n",
    "plt.show()"
   ]
  },
  {
   "cell_type": "code",
   "execution_count": null,
   "metadata": {},
   "outputs": [],
   "source": [
    "savings_account_data = df[\"Savings_Account\"].value_counts(normalize=True)\n",
    "\n",
    "plt.figure(figsize=(8,5))\n",
    "plt.barh(savings_account_data.index.map({\n",
    "    '1':'< $100',\n",
    "    '2':'$100 - $500',\n",
    "    '3':'$500 - $1000',\n",
    "    '4':'>$3000',\n",
    "    '5':'Unknown/No savings account',\n",
    "}), savings_account_data)\n",
    "plt.title(\"Distribution of Status of Savings Account\", fontsize=15)\n",
    "plt.xlabel(\"Probability\", fontsize=12)\n",
    "plt.ylabel(\"Amount in Savings Account\", fontsize=12)\n",
    "plt.show()"
   ]
  },
  {
   "cell_type": "code",
   "execution_count": null,
   "metadata": {},
   "outputs": [],
   "source": [
    "employment_data = df[\"Employment\"].value_counts(normalize=True)\n",
    "\n",
    "plt.figure(figsize=(8,5))\n",
    "plt.barh(employment_data.index.map({\n",
    "    '1':'Unemployed',\n",
    "    '2':'<1 year',\n",
    "    '3':'1 - 4 years',\n",
    "    '4':'4 - 7 years',\n",
    "    '5':'>7 years',\n",
    "}), employment_data)\n",
    "plt.title(\"Distribution of Length of Employment\", fontsize=15)\n",
    "plt.xlabel(\"Probability\", fontsize=12)\n",
    "plt.ylabel(\"Length of Current Employment\", fontsize=12)\n",
    "plt.show()"
   ]
  },
  {
   "cell_type": "code",
   "execution_count": null,
   "metadata": {},
   "outputs": [],
   "source": [
    "personal_status_data = df[\"Personal_Status\"].value_counts(normalize=True)\n",
    "\n",
    "plt.figure(figsize=(8,5))\n",
    "plt.barh(personal_status_data.index.map({\n",
    "    '1':'Divorced/Separated Male',\n",
    "    '2':'Single Male',\n",
    "    '3':'Married/Widowed Male',\n",
    "    '4':'All Females'\n",
    "}), personal_status_data)\n",
    "plt.title(\"Distribution of Personal Status\", fontsize=15)\n",
    "plt.xlabel(\"Probability\", fontsize=12)\n",
    "plt.ylabel(\"Marital Status and Sex\", fontsize=12)\n",
    "plt.show()"
   ]
  },
  {
   "cell_type": "code",
   "execution_count": null,
   "metadata": {},
   "outputs": [],
   "source": [
    "guarantors_data = df[\"Guarantors\"].value_counts(normalize=True)\n",
    "\n",
    "plt.figure(figsize=(8,5))\n",
    "plt.barh(guarantors_data.index.map({\n",
    "    '1':'N/A',\n",
    "    '2':'Has Co-applicant',\n",
    "    '3':'Has Guarantor'\n",
    "}), guarantors_data)\n",
    "plt.title(\"Distribution of Guarantors\", fontsize=15)\n",
    "plt.xlabel(\"Probability\", fontsize=12)\n",
    "plt.ylabel(\"Other Debtors or Guarantors\", fontsize=12)\n",
    "plt.show()"
   ]
  },
  {
   "cell_type": "code",
   "execution_count": null,
   "metadata": {},
   "outputs": [],
   "source": [
    "residence_length_data = df[\"Residence_Length\"].value_counts(normalize=True)\n",
    "\n",
    "plt.figure(figsize=(8,5))\n",
    "plt.barh(residence_length_data.index.map({\n",
    "    '1':'<1 year',\n",
    "    '2':'1 - 2 years',\n",
    "    '3':'2 - 3 years',\n",
    "    '4':'>3 years'\n",
    "}), residence_length_data)\n",
    "plt.title(\"Distribution of Residence Length\", fontsize=15)\n",
    "plt.xlabel(\"Probability\", fontsize=12)\n",
    "plt.ylabel(\"Number of years staying in current residence\", fontsize=12)\n",
    "plt.show()"
   ]
  },
  {
   "cell_type": "code",
   "execution_count": null,
   "metadata": {},
   "outputs": [],
   "source": [
    "assets_data = df[\"Assets\"].value_counts(normalize=True)\n",
    "\n",
    "plt.figure(figsize=(8,5))\n",
    "plt.barh(assets_data.index.map({\n",
    "    '1':'1) Real Estate',\n",
    "    '2':'2) Savings Agreement/Life Insurance but no 1)',\n",
    "    '3':'3) Car or other but no 1) or 2)',\n",
    "    '4':'4) Unknown or none of the above'\n",
    "}), assets_data)\n",
    "plt.title(\"Distribution of Assets Ownership\", fontsize=15)\n",
    "plt.xlabel(\"Probability\", fontsize=12)\n",
    "plt.ylabel(\"Assets Owned\", fontsize=12)\n",
    "plt.show()"
   ]
  },
  {
   "cell_type": "code",
   "execution_count": null,
   "metadata": {},
   "outputs": [],
   "source": [
    "existing_credits_data = df[\"Existing_Credits\"].value_counts(normalize=True)\n",
    "\n",
    "plt.figure(figsize=(8,5))\n",
    "plt.barh(existing_credits_data.index.map({\n",
    "    '1':'Bank',\n",
    "    '2':'Stores',\n",
    "    '3':'None'\n",
    "}), existing_credits_data)\n",
    "plt.title(\"Distribution of Existing Credits\", fontsize=15)\n",
    "plt.xlabel(\"Probability\", fontsize=12)\n",
    "plt.ylabel(\"Other Existing Credit's Location\", fontsize=12)\n",
    "plt.show()"
   ]
  },
  {
   "cell_type": "code",
   "execution_count": null,
   "metadata": {},
   "outputs": [],
   "source": [
    "housing_type_data = df[\"Housing_Type\"].value_counts(normalize=True)\n",
    "\n",
    "plt.figure(figsize=(8,5))\n",
    "plt.barh(housing_type_data.index.map({\n",
    "    '1':'Rented',\n",
    "    '2':'Owned',\n",
    "    '3':'Staying for Free'\n",
    "}), housing_type_data)\n",
    "plt.title(\"Distribution of Housing Type\", fontsize=15)\n",
    "plt.xlabel(\"Probability\", fontsize=12)\n",
    "plt.ylabel(\"Type of Ownership of Housing Apartment\", fontsize=12)\n",
    "plt.show()"
   ]
  },
  {
   "cell_type": "code",
   "execution_count": null,
   "metadata": {},
   "outputs": [],
   "source": [
    "occupation_data = df[\"Occupation\"].value_counts(normalize=True)\n",
    "\n",
    "plt.figure(figsize=(8,5))\n",
    "plt.barh(occupation_data.index.map({\n",
    "    '1':'Unemployed/Unskilled Non-resident',\n",
    "    '2':'Unskilled Resident',\n",
    "    '3':'Skilled Employee/Official',\n",
    "    '4':'Management/Self-employed'\n",
    "}), occupation_data)\n",
    "plt.title(\"Distribution of Occupation\", fontsize=15)\n",
    "plt.xlabel(\"Probability\", fontsize=12)\n",
    "plt.ylabel(\"Occupation type or/and Residency\", fontsize=12)\n",
    "plt.show()"
   ]
  },
  {
   "cell_type": "code",
   "execution_count": null,
   "metadata": {},
   "outputs": [],
   "source": [
    "telephone_data = df[\"Telephone\"].value_counts(normalize=True)\n",
    "\n",
    "plt.figure(figsize=(8,5))\n",
    "plt.barh(telephone_data.index.map({\n",
    "    '1':'No',\n",
    "    '2':'Yes and Registered to Customer'\n",
    "}), telephone_data)\n",
    "plt.title(\"Distribution of Ownership of Telephone\", fontsize=15)\n",
    "plt.xlabel(\"Probability\", fontsize=12)\n",
    "plt.ylabel(\"Ownership of Telephone\", fontsize=12)\n",
    "plt.show()"
   ]
  },
  {
   "cell_type": "code",
   "execution_count": null,
   "metadata": {},
   "outputs": [],
   "source": [
    "foreign_worker_data = df[\"Foreign_Worker\"].value_counts(normalize=True)\n",
    "\n",
    "plt.figure(figsize=(8,5))\n",
    "plt.barh(foreign_worker_data.index.map({\n",
    "    '1':'Yes',\n",
    "    '2':'No'\n",
    "}), foreign_worker_data)\n",
    "plt.title(\"Distribution of Foreign and Non-foreign Worker\", fontsize=15)\n",
    "plt.xlabel(\"Probability\", fontsize=12)\n",
    "plt.ylabel(\"Is Foreign Worker\", fontsize=12)\n",
    "plt.show()"
   ]
  },
  {
   "cell_type": "markdown",
   "metadata": {},
   "source": [
    "Next, we will proceed to visualize the numerical datatypes"
   ]
  },
  {
   "cell_type": "code",
   "execution_count": null,
   "metadata": {},
   "outputs": [],
   "source": [
    "df.select_dtypes(include=['int']).hist(layout=(2, 4), figsize=(12, 8))\n",
    "plt.show()"
   ]
  },
  {
   "cell_type": "markdown",
   "metadata": {},
   "source": [
    "We will then proceed to fit a linear regression model using the numerical datatypes we have (This part is mainly for Final Part of our project)"
   ]
  },
  {
   "cell_type": "code",
   "execution_count": null,
   "metadata": {},
   "outputs": [],
   "source": [
    "from scipy import stats\n",
    "beta1, beta0, r, _, _, = stats.linregress(df[\"Credit_Rating\"], df[\"Approval\"].astype(int))\n",
    "\n",
    "print(\"beta1 :\", beta1)\n",
    "print(\"beta0 :\", beta0)\n",
    "print(\"r squared :\", r*r)"
   ]
  },
  {
   "cell_type": "code",
   "execution_count": null,
   "metadata": {},
   "outputs": [],
   "source": [
    "from sklearn.linear_model import LinearRegression\n",
    "\n",
    "model = LinearRegression()\n",
    "\n",
    "X, y =df[['Credit_Rating','Amount','Age','Num_Credits','Dependents','Installment','Duration']], df[\"Approval\"].astype(int)\n",
    "\n",
    "model.fit(X, y)\n",
    "r_squared = model.score(X, y)\n",
    "r_squared"
   ]
  },
  {
   "cell_type": "markdown",
   "metadata": {},
   "source": [
    "**c.** Perform bi-variate analysis on the variables. You do not need to present the analysis of every pair of variables; only focus on the pairs you believe are worth investigating and explain. For each pair, describe the relationship between the two variables. Use appropriate statistical methods and/or visualizations."
   ]
  },
  {
   "cell_type": "markdown",
   "metadata": {},
   "source": [
    "**Response.** "
   ]
  }
 ],
 "metadata": {
  "kernelspec": {
   "display_name": "Python 3 (ipykernel)",
   "language": "python",
   "name": "python3"
  },
  "language_info": {
   "codemirror_mode": {
    "name": "ipython",
    "version": 3
   },
   "file_extension": ".py",
   "mimetype": "text/x-python",
   "name": "python",
   "nbconvert_exporter": "python",
   "pygments_lexer": "ipython3",
   "version": "3.9.16"
  },
  "vscode": {
   "interpreter": {
    "hash": "ac60a7a97193024cea8891225b3e8dfe5028f9f88bc4f6c506dfb9dd1700823c"
   }
  }
 },
 "nbformat": 4,
 "nbformat_minor": 4
}
