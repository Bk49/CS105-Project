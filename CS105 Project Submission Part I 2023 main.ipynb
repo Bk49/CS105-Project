{
 "cells": [
  {
   "cell_type": "markdown",
   "metadata": {},
   "source": [
    "<div class=\"alert alert-block alert-info\">\n",
    "Singapore Management University<br>\n",
    "CS105 Statistical Thinking for Data Science, 2022/23 Term 2\n",
    "</div>"
   ]
  },
  {
   "cell_type": "markdown",
   "metadata": {
    "colab_type": "text",
    "id": "zYBbWb-0Kc6H"
   },
   "source": [
    "# CS105 Group Project Submission"
   ]
  },
  {
   "cell_type": "markdown",
   "metadata": {
    "tags": []
   },
   "source": [
    "## Part 1: Exploratory Data Analysis (EDA) [8% of final grade]"
   ]
  },
  {
   "cell_type": "markdown",
   "metadata": {},
   "source": [
    "#### Section: G4\n",
    "#### Team: Group 5\n",
    "#### Members:\n",
    "1. Chew Hui Feng\n",
    "2. Eric Ng Yong Wei\n",
    "3. Colin Teo Jun Wei\n",
    "4. Tan Li Yang Samuel\n",
    "5. Martin Ong Yan Jie\n",
    "\n",
    "#### Dataset: \n",
    "credit.csv"
   ]
  },
  {
   "cell_type": "markdown",
   "metadata": {},
   "source": [
    "### Importing libraries"
   ]
  },
  {
   "cell_type": "code",
   "execution_count": 1,
   "metadata": {},
   "outputs": [],
   "source": [
    "# General libraries\n",
    "import numpy as np\n",
    "import pandas as pd\n",
    "\n",
    "# Visualization libraries\n",
    "import matplotlib.pyplot as plt"
   ]
  },
  {
   "cell_type": "code",
   "execution_count": 2,
   "metadata": {},
   "outputs": [],
   "source": [
    "# Loading dataset\n",
    "\n",
    "df = pd.read_csv('Data Files\\credit.csv', index_col=0) \n",
    "pd.set_option('display.max_columns', None)"
   ]
  },
  {
   "cell_type": "markdown",
   "metadata": {},
   "source": [
    "### 1.1 Overview of dataset [15% of Part I]\n",
    "\n",
    "In this section, we will be describing the data we have. \n",
    "We will be looking at what kind of data we are using, how they are stored and any other information tha helps in knowing more about the dataset.\n",
    "This will aid us in understanding and exploring the data set"
   ]
  },
  {
   "cell_type": "markdown",
   "metadata": {},
   "source": [
    "#### 1.1.1 Summarise the background of the dataset [limited to 50 words]"
   ]
  },
  {
   "cell_type": "markdown",
   "metadata": {},
   "source": [
    "The dataset mainly specifies various information about applicants for a credit facility in a bank. The information also includes the approval status of each applicant which can be useful to train AI models in the future to filter new applicants of the credit facility"
   ]
  },
  {
   "cell_type": "markdown",
   "metadata": {
    "tags": []
   },
   "source": [
    "#### 1.1.2 State the size of the dataset"
   ]
  },
  {
   "cell_type": "code",
   "execution_count": 3,
   "metadata": {},
   "outputs": [
    {
     "name": "stdout",
     "output_type": "stream",
     "text": [
      "The number of rows: 1000\n",
      "The number of columns (without including the ID column): 22\n"
     ]
    }
   ],
   "source": [
    "rows, columns = df.shape\n",
    "print(f\"The number of rows: {rows}\")\n",
    "print(f\"The number of columns (without including the ID column): {columns}\")"
   ]
  },
  {
   "cell_type": "markdown",
   "metadata": {},
   "source": [
    "#### 1.1.3 For each variable, describe what it represents and its data type (numerical or categorical)"
   ]
  },
  {
   "cell_type": "code",
   "execution_count": 4,
   "metadata": {},
   "outputs": [
    {
     "name": "stdout",
     "output_type": "stream",
     "text": [
      "<class 'pandas.core.frame.DataFrame'>\n",
      "Int64Index: 1000 entries, 1 to 1000\n",
      "Data columns (total 22 columns):\n",
      " #   Column            Non-Null Count  Dtype  \n",
      "---  ------            --------------  -----  \n",
      " 0   Checking_Account  1000 non-null   int64  \n",
      " 1   Duration          1000 non-null   int64  \n",
      " 2   Payment_Status    1000 non-null   int64  \n",
      " 3   Purpose           1000 non-null   int64  \n",
      " 4   Amount            1000 non-null   int64  \n",
      " 5   Savings_Account   1000 non-null   int64  \n",
      " 6   Employment        1000 non-null   int64  \n",
      " 7   Installment       1000 non-null   int64  \n",
      " 8   Personal_Status   1000 non-null   int64  \n",
      " 9   Guarantors        1000 non-null   int64  \n",
      " 10  Residence_Length  966 non-null    float64\n",
      " 11  Assets            1000 non-null   int64  \n",
      " 12  Age               1000 non-null   int64  \n",
      " 13  Credit_Rating     1000 non-null   int64  \n",
      " 14  Existing_Credits  1000 non-null   int64  \n",
      " 15  Housing_Type      1000 non-null   int64  \n",
      " 16  Num_Credits       969 non-null    float64\n",
      " 17  Occupation        1000 non-null   int64  \n",
      " 18  Dependents        1000 non-null   int64  \n",
      " 19  Telephone         1000 non-null   int64  \n",
      " 20  Foreign_Worker    1000 non-null   int64  \n",
      " 21  Approval          1000 non-null   int64  \n",
      "dtypes: float64(2), int64(20)\n",
      "memory usage: 179.7 KB\n"
     ]
    }
   ],
   "source": [
    "df.info()"
   ]
  },
  {
   "attachments": {},
   "cell_type": "markdown",
   "metadata": {},
   "source": [
    "- ID (Categorical): Represents the identification number for every single row\n",
    "- Checking_Account (Categorical): Represents the balance of the checking account into 4 different categories\n",
    "    - 1: Balance is zero\n",
    "    - 2: Balance is less than $200\n",
    "    - 3: Balance is more than or equals to $200\n",
    "    - 4: The user has no checking account\n",
    "- Duration (Numerical): Represents the duration the borrower would like to borrow the money\n",
    "- Payment Status (Categorical): Represents the credit history of the borrower into 4 different categories\n",
    "    - 0: Borrower has not taken any credits before\n",
    "    - 1: Borrower has all the credits paid back\n",
    "    - 2: Borrower has existing credits and has paid back till now\n",
    "    - 3: Borrower has delay in paying off in the past\n",
    "    - 4: Borrower has a bad credit history (critical account)\n",
    "- Purpose (Categorical): Represents the reason of borrowing\n",
    "    - 0: Purchase/Rental of a new car\n",
    "    - 1: Purchase/Rental of a new car\n",
    "    - 2: Purchase of furniture/equipment\n",
    "    - 3: Purchase of radio/television\n",
    "    - 4: Purchase of domestic appliances\n",
    "    - 5: For restoration and repair of items/assets\n",
    "    - 6: For education purposes\n",
    "    - 7: For vacation\n",
    "    - 8: For learning new skills (retraining)\n",
    "    - 9: For funding of business\n",
    "    - 10: Miscellaneous\n",
    "- Amount (Numerical): Amount to borrow\n",
    "- Savings_Account (Categorical): Amount of savings available in savings account\n",
    "    - 1: Less than $100\n",
    "    - 2: In the range of $100-$500\n",
    "    - 3: In the range of $500-$1000\n",
    "    - 4: More than $3000\n",
    "    - 5: Amount not known / No savings account\n",
    "- Employment (Categorical): Length of current employment\n",
    "    - 1: Unemployed\n",
    "    - 2: Less than a year\n",
    "    - 3: 1-4 years\n",
    "    - 4: 4-7 years\n",
    "    - 5: More than 7 years\n",
    "- Installment (Numerical): Installment rate as percentage of disposable income\n",
    "- Personal_Status (Categorical): Marital status and sex\n",
    "    - 1: Divorced/Separated males\n",
    "    - 2: Single males\n",
    "    - 3: Married/Widowed males\n",
    "    - 4: Females of any status\n",
    "- Guarantors (Categorical): Other borrowers that co-apply for the credit or other guarantors of the credit request\n",
    "    - 1: No other borrowers or co-applicant\n",
    "    - 2: Has co-applicant\n",
    "    - 3: Has guarantor\n",
    "- Residence_Length (Categorical): Number of years staying in current residence\n",
    "    - 1: Less than a year\n",
    "    - 2: 1-2 years\n",
    "    - 3: 2-3 years\n",
    "    - 4: More than 3 years\n",
    "- Assets (Categorical): Ownership of assets\n",
    "    - 1: Owns real estate\n",
    "    - 2: Does not owns real estate but owns savings agreement/life insurance\n",
    "    - 3: Does not owns real estate and savings agreement/life insurance but owns a car or other assets\n",
    "    - 4: Ownership of assets unknown or do not own any assets\n",
    "- Age (Numerical): Age of borrower in years\n",
    "- Credit_Rating (Numerical): Rating of credit score of the borrower in the range of 1 to 100\n",
    "- Existing_Credits (Categorical): Other existing credit in place\n",
    "    - 1: Has other credits in bank\n",
    "    - 2: Has other credits in store\n",
    "    - 3: No other credits\n",
    "- Housing_Type (Categorical): Type of ownership of the apartment of stay\n",
    "    - 1: Rented apartment\n",
    "    - 2: Owned apartment\n",
    "    - 3: Free to stay apartment\n",
    "- Num_Credits (Numerical): Number of existing credits\n",
    "- Occupation (Categorical): Category of occupation and status of residency\n",
    "    - 1: Unemployed/ unskilled non-resident\n",
    "    - 2: Unskilled resident\n",
    "    - 3: Skilled employee/official of any status of residency \n",
    "    - 4: Management/ self-employed of any status of residency\n",
    "- Dependents (Numerical): Number of dependants\n",
    "- Telephone (Categorical): Has telephone\n",
    "    - 1: No telephones\n",
    "    - 2: Has telephone registered to the borrower\n",
    "- Foreign_Worker (Categorical): Foreign worker or not\n",
    "    - 1: Foreign worker\n",
    "    - 2: Not foreign worker\n",
    "- Approval (Categorical): Status of loan, the dependent variable\n",
    "    - 1: Approved\n",
    "    - 0: Rejected"
   ]
  },
  {
   "cell_type": "markdown",
   "metadata": {
    "tags": []
   },
   "source": [
    "### 1.2 Data pre-processing [35% of Part I]\n",
    "\n",
    "In this section, we will be doing data cleansing. Mainly to deal with missing data and outliers.\n",
    "Every data will then be consistent and in easily readable format to ensure quality of the dataset"
   ]
  },
  {
   "cell_type": "markdown",
   "metadata": {},
   "source": [
    "1.2.1 For each variable, determine the percentage of missing data. For any column with missing data, describe how you resolve the issue. Clearly state any assumption you made."
   ]
  },
  {
   "cell_type": "markdown",
   "metadata": {},
   "source": [
    "1. show number of missing data in general\n",
    "2. show the columns with missing data\n",
    "3. show more information on each column (number of missing for each column etc)\n",
    "4. make assumption and change the NaN to other values (can aid with logic or visualization)"
   ]
  },
  {
   "cell_type": "code",
   "execution_count": 5,
   "metadata": {},
   "outputs": [
    {
     "name": "stdout",
     "output_type": "stream",
     "text": [
      "Number of missing data in each column: \n"
     ]
    },
    {
     "data": {
      "text/plain": [
       "Checking_Account     0\n",
       "Duration             0\n",
       "Payment_Status       0\n",
       "Purpose              0\n",
       "Amount               0\n",
       "Savings_Account      0\n",
       "Employment           0\n",
       "Installment          0\n",
       "Personal_Status      0\n",
       "Guarantors           0\n",
       "Residence_Length    34\n",
       "Assets               0\n",
       "Age                  0\n",
       "Credit_Rating        0\n",
       "Existing_Credits     0\n",
       "Housing_Type         0\n",
       "Num_Credits         31\n",
       "Occupation           0\n",
       "Dependents           0\n",
       "Telephone            0\n",
       "Foreign_Worker       0\n",
       "Approval             0\n",
       "dtype: int64"
      ]
     },
     "execution_count": 5,
     "metadata": {},
     "output_type": "execute_result"
    }
   ],
   "source": [
    "print(\"Number of missing data in each column: \")\n",
    "df.isna().sum()"
   ]
  },
  {
   "attachments": {},
   "cell_type": "markdown",
   "metadata": {},
   "source": [
    "As shown in the displayed data, there is a total of 34 missing data in the 'Residence_Length' column and 31 missing data in the 'Num_Credits' column.\n",
    "Next, we proceed to calculate the percentage of missing data for each of these columns (that have missing data)"
   ]
  },
  {
   "cell_type": "code",
   "execution_count": 6,
   "metadata": {},
   "outputs": [
    {
     "data": {
      "text/html": [
       "<div>\n",
       "<style scoped>\n",
       "    .dataframe tbody tr th:only-of-type {\n",
       "        vertical-align: middle;\n",
       "    }\n",
       "\n",
       "    .dataframe tbody tr th {\n",
       "        vertical-align: top;\n",
       "    }\n",
       "\n",
       "    .dataframe thead th {\n",
       "        text-align: right;\n",
       "    }\n",
       "</style>\n",
       "<table border=\"1\" class=\"dataframe\">\n",
       "  <thead>\n",
       "    <tr style=\"text-align: right;\">\n",
       "      <th></th>\n",
       "      <th>column_name</th>\n",
       "      <th>percent_missing</th>\n",
       "    </tr>\n",
       "  </thead>\n",
       "  <tbody>\n",
       "    <tr>\n",
       "      <th>Residence_Length</th>\n",
       "      <td>Residence_Length</td>\n",
       "      <td>3.4</td>\n",
       "    </tr>\n",
       "    <tr>\n",
       "      <th>Num_Credits</th>\n",
       "      <td>Num_Credits</td>\n",
       "      <td>3.1</td>\n",
       "    </tr>\n",
       "  </tbody>\n",
       "</table>\n",
       "</div>"
      ],
      "text/plain": [
       "                       column_name  percent_missing\n",
       "Residence_Length  Residence_Length              3.4\n",
       "Num_Credits            Num_Credits              3.1"
      ]
     },
     "execution_count": 6,
     "metadata": {},
     "output_type": "execute_result"
    }
   ],
   "source": [
    "percent_missing = df.isnull().sum() * 100 / len(df)\n",
    "missing_value_df = pd.DataFrame({'column_name': df.columns,\n",
    "                                 'percent_missing': percent_missing})\n",
    "missing_value_df [missing_value_df ['percent_missing'] !=0]"
   ]
  },
  {
   "attachments": {},
   "cell_type": "markdown",
   "metadata": {},
   "source": [
    "##### Dealing with 'Num_Credits' missing data"
   ]
  },
  {
   "attachments": {},
   "cell_type": "markdown",
   "metadata": {},
   "source": [
    "We first start by counting the unique values of 'Num_Credits' to see if there is a clear majority or not"
   ]
  },
  {
   "cell_type": "code",
   "execution_count": 7,
   "metadata": {},
   "outputs": [
    {
     "data": {
      "text/plain": [
       "1.0    615\n",
       "2.0    321\n",
       "3.0     27\n",
       "4.0      6\n",
       "Name: Num_Credits, dtype: int64"
      ]
     },
     "execution_count": 7,
     "metadata": {},
     "output_type": "execute_result"
    }
   ],
   "source": [
    "df[\"Num_Credits\"].value_counts()"
   ]
  },
  {
   "attachments": {},
   "cell_type": "markdown",
   "metadata": {},
   "source": [
    "From the above results, we can see that most of the 'Num_Credits' is 1.0 with 615 occurence. Let's have a look at the mean and median for 'Num_Credits' before we make a decision"
   ]
  },
  {
   "cell_type": "code",
   "execution_count": 8,
   "metadata": {},
   "outputs": [
    {
     "data": {
      "text/plain": [
       "count    969.000000\n",
       "mean       1.405573\n",
       "std        0.578194\n",
       "min        1.000000\n",
       "25%        1.000000\n",
       "50%        1.000000\n",
       "75%        2.000000\n",
       "max        4.000000\n",
       "Name: Num_Credits, dtype: float64"
      ]
     },
     "execution_count": 8,
     "metadata": {},
     "output_type": "execute_result"
    }
   ],
   "source": [
    "df['Num_Credits'].describe()"
   ]
  },
  {
   "attachments": {},
   "cell_type": "markdown",
   "metadata": {},
   "source": [
    "The mean is 1.4 and the median is also 1.0, therefore, based on the statistics, we will use 1.0 to replace the Nan values for 'Num_Credits' column"
   ]
  },
  {
   "cell_type": "code",
   "execution_count": 9,
   "metadata": {},
   "outputs": [
    {
     "data": {
      "text/plain": [
       "False    1000\n",
       "Name: Num_Credits, dtype: int64"
      ]
     },
     "execution_count": 9,
     "metadata": {},
     "output_type": "execute_result"
    }
   ],
   "source": [
    "df['Num_Credits'].fillna( df['Num_Credits'].mode()[0],inplace=True)\n",
    "df['Num_Credits'].isnull().value_counts()"
   ]
  },
  {
   "attachments": {},
   "cell_type": "markdown",
   "metadata": {},
   "source": [
    "##### Dealing with 'Residence_Length' missing data"
   ]
  },
  {
   "attachments": {},
   "cell_type": "markdown",
   "metadata": {},
   "source": [
    "We first start by counting the unique values of 'Residence_Length' to see if there is a clear majority or not"
   ]
  },
  {
   "cell_type": "code",
   "execution_count": 10,
   "metadata": {},
   "outputs": [
    {
     "data": {
      "text/plain": [
       "4.0    397\n",
       "2.0    288\n",
       "3.0    145\n",
       "1.0    125\n",
       "5.0     11\n",
       "Name: Residence_Length, dtype: int64"
      ]
     },
     "execution_count": 10,
     "metadata": {},
     "output_type": "execute_result"
    }
   ],
   "source": [
    "df[\"Residence_Length\"].value_counts()"
   ]
  },
  {
   "attachments": {},
   "cell_type": "markdown",
   "metadata": {},
   "source": [
    "Unfortunately, it does not seems like the mode holds a very high occurence based on the percentage of occurence over the whole dataset. However, rows without values of 'Residence_Length' only takes up 3.4% of the whole dataset. Therefore, we will drop the rows without any values for 'Residence_Length'"
   ]
  },
  {
   "cell_type": "code",
   "execution_count": 11,
   "metadata": {},
   "outputs": [
    {
     "data": {
      "text/plain": [
       "Checking_Account    966\n",
       "Duration            966\n",
       "Payment_Status      966\n",
       "Purpose             966\n",
       "Amount              966\n",
       "Savings_Account     966\n",
       "Employment          966\n",
       "Installment         966\n",
       "Personal_Status     966\n",
       "Guarantors          966\n",
       "Residence_Length    966\n",
       "Assets              966\n",
       "Age                 966\n",
       "Credit_Rating       966\n",
       "Existing_Credits    966\n",
       "Housing_Type        966\n",
       "Num_Credits         966\n",
       "Occupation          966\n",
       "Dependents          966\n",
       "Telephone           966\n",
       "Foreign_Worker      966\n",
       "Approval            966\n",
       "dtype: int64"
      ]
     },
     "execution_count": 11,
     "metadata": {},
     "output_type": "execute_result"
    }
   ],
   "source": [
    "df.dropna(inplace=True)\n",
    "df.count()"
   ]
  },
  {
   "attachments": {},
   "cell_type": "markdown",
   "metadata": {},
   "source": [
    "Number of rows is now 966 since there are previously 34 rows of data consisting of Nan values for 'Residence_Length'. Therefore this is correct"
   ]
  },
  {
   "cell_type": "markdown",
   "metadata": {},
   "source": [
    "1.2.2 For each variable, identify outliers (if any) and describe how you resolve the issue. Clearly state any assumption you made."
   ]
  },
  {
   "cell_type": "code",
   "execution_count": 12,
   "metadata": {},
   "outputs": [
    {
     "name": "stdout",
     "output_type": "stream",
     "text": [
      "<class 'pandas.core.frame.DataFrame'>\n",
      "Int64Index: 966 entries, 1 to 1000\n",
      "Data columns (total 22 columns):\n",
      " #   Column            Non-Null Count  Dtype  \n",
      "---  ------            --------------  -----  \n",
      " 0   Checking_Account  966 non-null    int64  \n",
      " 1   Duration          966 non-null    int64  \n",
      " 2   Payment_Status    966 non-null    int64  \n",
      " 3   Purpose           966 non-null    int64  \n",
      " 4   Amount            966 non-null    int64  \n",
      " 5   Savings_Account   966 non-null    int64  \n",
      " 6   Employment        966 non-null    int64  \n",
      " 7   Installment       966 non-null    int64  \n",
      " 8   Personal_Status   966 non-null    int64  \n",
      " 9   Guarantors        966 non-null    int64  \n",
      " 10  Residence_Length  966 non-null    float64\n",
      " 11  Assets            966 non-null    int64  \n",
      " 12  Age               966 non-null    int64  \n",
      " 13  Credit_Rating     966 non-null    int64  \n",
      " 14  Existing_Credits  966 non-null    int64  \n",
      " 15  Housing_Type      966 non-null    int64  \n",
      " 16  Num_Credits       966 non-null    float64\n",
      " 17  Occupation        966 non-null    int64  \n",
      " 18  Dependents        966 non-null    int64  \n",
      " 19  Telephone         966 non-null    int64  \n",
      " 20  Foreign_Worker    966 non-null    int64  \n",
      " 21  Approval          966 non-null    int64  \n",
      "dtypes: float64(2), int64(20)\n",
      "memory usage: 173.6 KB\n"
     ]
    }
   ],
   "source": [
    "df.info()"
   ]
  },
  {
   "attachments": {},
   "cell_type": "markdown",
   "metadata": {},
   "source": [
    "'Residence_Length' and 'Num_Credits' are the only two numerical datatype in float datatype. We first study if they contain any non-integer values"
   ]
  },
  {
   "cell_type": "code",
   "execution_count": 13,
   "metadata": {},
   "outputs": [
    {
     "name": "stdout",
     "output_type": "stream",
     "text": [
      "4.0    397\n",
      "2.0    288\n",
      "3.0    145\n",
      "1.0    125\n",
      "5.0     11\n",
      "Name: Residence_Length, dtype: int64\n"
     ]
    },
    {
     "data": {
      "text/plain": [
       "1.0    625\n",
       "2.0    309\n",
       "3.0     27\n",
       "4.0      5\n",
       "Name: Num_Credits, dtype: int64"
      ]
     },
     "execution_count": 13,
     "metadata": {},
     "output_type": "execute_result"
    }
   ],
   "source": [
    "print(df['Residence_Length'].value_counts())\n",
    "df['Num_Credits'].value_counts()"
   ]
  },
  {
   "attachments": {},
   "cell_type": "markdown",
   "metadata": {},
   "source": [
    "As shown above, they are both integer numerical values, let's convert them to integer type before we proceed"
   ]
  },
  {
   "cell_type": "code",
   "execution_count": 14,
   "metadata": {},
   "outputs": [
    {
     "name": "stdout",
     "output_type": "stream",
     "text": [
      "4    397\n",
      "2    288\n",
      "3    145\n",
      "1    125\n",
      "5     11\n",
      "Name: Residence_Length, dtype: int64\n"
     ]
    },
    {
     "data": {
      "text/plain": [
       "1    625\n",
       "2    309\n",
       "3     27\n",
       "4      5\n",
       "Name: Num_Credits, dtype: int64"
      ]
     },
     "execution_count": 14,
     "metadata": {},
     "output_type": "execute_result"
    }
   ],
   "source": [
    "# Have to ensure the Nan values are handled first\n",
    "df.Residence_Length = df.Residence_Length.astype(int)\n",
    "df.Num_Credits = df.Num_Credits.astype(int)\n",
    "\n",
    "print(df['Residence_Length'].value_counts())\n",
    "df['Num_Credits'].value_counts()"
   ]
  },
  {
   "cell_type": "markdown",
   "metadata": {},
   "source": [
    "**Response.** "
   ]
  },
  {
   "cell_type": "markdown",
   "metadata": {},
   "source": [
    "1.2.3 For categorical variables, perform the necessary encoding."
   ]
  },
  {
   "attachments": {},
   "cell_type": "markdown",
   "metadata": {},
   "source": [
    "All of the data provided in the dataset have already completed the necessary encoding"
   ]
  },
  {
   "cell_type": "markdown",
   "metadata": {},
   "source": [
    "### 1.3\tExploratory analysis and visualization [50% of Part I]\n",
    "\n",
    "In this section, we will be looking into the data and undestanding it indepth to gain insights that will be helpful.\n",
    "To aid the exploration of the data we have, we will be using visualization and draw up certain conclusions from the information we have"
   ]
  },
  {
   "cell_type": "markdown",
   "metadata": {},
   "source": [
    "1.3.1 For each variable, provide relevant summary statistics"
   ]
  },
  {
   "cell_type": "markdown",
   "metadata": {},
   "source": [
    "**Response.** "
   ]
  },
  {
   "cell_type": "markdown",
   "metadata": {},
   "source": [
    "1.3.2 For each variable, provide an appropriate visualisation depicting the distribution of its values, and summarize any key observation(s) you made."
   ]
  },
  {
   "cell_type": "markdown",
   "metadata": {},
   "source": [
    "**Response.** "
   ]
  },
  {
   "cell_type": "markdown",
   "metadata": {},
   "source": [
    "1.3.3 Perform bi-variate analysis on the variables. You do not need to present the analysis of every pair of variables; only focus on the pairs you believe are worth investigating and explain. For each pair, describe the relationship between the two variables. Use appropriate statistical methods and/or visualizations."
   ]
  },
  {
   "cell_type": "markdown",
   "metadata": {},
   "source": [
    "**Response.** "
   ]
  }
 ],
 "metadata": {
  "kernelspec": {
   "display_name": "base",
   "language": "python",
   "name": "python3"
  },
  "language_info": {
   "codemirror_mode": {
    "name": "ipython",
    "version": 3
   },
   "file_extension": ".py",
   "mimetype": "text/x-python",
   "name": "python",
   "nbconvert_exporter": "python",
   "pygments_lexer": "ipython3",
   "version": "3.9.13"
  },
  "vscode": {
   "interpreter": {
    "hash": "ac60a7a97193024cea8891225b3e8dfe5028f9f88bc4f6c506dfb9dd1700823c"
   }
  }
 },
 "nbformat": 4,
 "nbformat_minor": 4
}
